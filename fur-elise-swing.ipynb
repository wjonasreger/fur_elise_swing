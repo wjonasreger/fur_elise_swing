{
 "cells": [
  {
   "cell_type": "code",
   "execution_count": 265,
   "metadata": {},
   "outputs": [],
   "source": [
    "# import variables and functions from process.py\n",
    "from process import all_notes, parse_voice_abc, convert_abc_parsed, transform2freq"
   ]
  },
  {
   "attachments": {},
   "cell_type": "markdown",
   "metadata": {},
   "source": [
    "This code defines sequences (A, B, C, D) representing notes for the right and left hands in the piano song \"Für Elise.\" These sequences are combined into the final song, ready to be processed for conversion into vectors representing note frequencies and durations."
   ]
  },
  {
   "cell_type": "code",
   "execution_count": 266,
   "metadata": {},
   "outputs": [
    {
     "name": "stdout",
     "output_type": "stream",
     "text": [
      "right hand:\n",
      "e ^d e ^d e B =d c A2 z C E A B2 z E ^G B c2 z E e ^d e ^d e B =d c A2 z C E A B2 z E c B A4 e ^d e ^d e B =d c A2 z C E A B2 z E ^G B c2 z E e ^d e ^d e B =d c A2 z C E A B2 z E c B A2 z B c d e3 G f e d3 F e d c3 E d c B2 z E e z z e e' z z ^d e2 z ^d e ^d e ^d e B =d c A2 z C E A B2 z E ^G B c2 z E e ^d e ^d e B =d c A2 z C E A B2 z E c B A2 z B c d e3 G f e d3 F e d c3 E d c B2 z E e z z e e' z z ^d e2 z ^d e ^d e ^d e B =d c A2 z C E A B2 z E ^G B c2 z E e ^d e ^d e B =d c A2 z C E A B2 z E c B A2 z [Ec] [Fc] [EGc] {FA} c4 f>e e2 d2 _b>a a g f e d c _B2 A2 {B} A/ G/ A/ B/ c4 d ^d e3 e f A c4 d>B c/ g/ G/ g/ A/ g/ B/ g/ c/ g/ d/ g/ e/ g/ c'/ b/ a/ g/ f/ e/ d/ g/ f/ d/ c/ g/ G/ g/ A/ g/ B/ g/ c/ g/ d/ g/ e/ g/ c'/ b/ a/ g/ f/ e/ d/ g/ f/ d/ e/ f/ e/ ^d/ e/ B/ e/ d/ e/ B/ e/ d/ e3 B e ^d e3 B e ^d e ^d e ^d e ^d e ^d e B =d c A2 z C E A B2 z E ^G B c2 z E e ^d e ^d e B =d c A2 z C E A B2 z E c B A2 z B c d e3 G f e d3 F e d c3 E d c B2 z E e z z e e' z z ^d e2 z ^d e ^d e ^d e B =d c A2 z C E A B2 z E ^G B c2 z E e ^d e ^d e B =d c A2 z C E A B2 z E c B A2 z2 z2 [E6G6_B6^c6] [F4A4d4] [^ce] [df] [^G4d4f4] [G2d2f2] [A6=c6e6] [F4d4] [Ec] [DB] [C4^F4A4] [C2A2] [C2A2] [E2c2] [D2B2] [C6A6] [E6G6_B6^c6] [F4A4d4] [^ce] [df] [d4f4] [d2f2] [d6f6] [G4_e4] [Fd] [_Ec] [D4F4_B4] [D2F2A2] [D4F4^G4] [D2F2G2] [C4=E4A4] z2 [E2B2] z2 z2 (3 A, C E (3 A c e (3 d c B (3 A c e (3 a c' e' (3 d' c' b (3 a c' e' (3 a' c'' e'' (3 d'' c'' b' (3 _b' a' _a' (3 g' _g' f' (3 e' _e' d' (3 _d' c' b (3 _b a _a (3 g _g f e ^d e B =d c A2 z C E A B2 z E ^G B c2 z E e ^d e ^d e B =d c A2 z C E A B2 z E c B A2 z B c d e3 G f e d3 F e d c3 E d c B2 z E e z z e e' z z ^d e2 z ^d e ^d e ^d e B =d c A2 z C E A B2 z E ^G B c2 z E e ^d e ^d e B =d c A2 z C E A B2 z E c B A4\n",
      "\n",
      "left hand:\n",
      "z2 z6 A,, E, A, z z2 E,, E, ^G, z z2 A,, E, A, z z2 z6 A,, E, A, z z2 E,, E, ^G, z z2 A,, E, A, z z2 z6 A,, E, A, z z2 E,, E, ^G, z z2 A,, E, A, z z2 z6 A,, E, A, z z2 E,, E, ^G, z z2 A,, E, A, z z2 C, E, C z z2 G,, G, B, z z2 A,, E, A, z z2 E,, E, E z z E e z z ^d e z z ^d e z z2 z6 A,, E, A, z z2 E,, E, ^G, z z2 A,, E, A, z z2 z6 A,, E, A, z z2 E,, E, ^G, z z2 A,, E, A, z z2 C, E, C z z2 G,, G, B, z z2 A,, E, A, z z2 E,, E, E z z E e z z ^d e z z ^d e z z2 z6 A,, E, A, z z2 E,, E, ^G, z z2 A,, E, A, z z2 z6 A,, E, A, z z2 E,, E, ^G, z z2 A,, E, A, [_B,C] [A,C] [G,B,C] F, A, C A, C A, F, _B, D B, D B, F, E [F,G,_B,] E [F,G,B,] E F, A, C A, C A, F, A, C A, C A, E, A, C A, [D,D] F, G, E G, F G, F [C2E2] z [FG] [EG] [DFG] [C2E2G2] [F,2A,2] [F,2A,2] C2 z [FG] [EG] [DFG] [C2E2G2] [F,2A,2] [G,2B,2] [^G,2B,2] z2 z2 z6 z6 z4 z2 z6 A,, E, A, z z2 E,, E, ^G, z z2 A,, E, A, z z2 z6 A,, E, A, z z2 E,, E, ^G, z z2 A,, E, A, z z2 C, E, C z z2 G,, G, B, z z2 A,, E, A, z z2 E,, E, E z z E e z z ^d e z z ^d e z z2 z6 A,, E, A, z z2 E,, E, ^G, z z2 A,, E, A, z z2 z6 A,, E, A, z z2 E,, E, ^G, z z2 A,, A,, A,, A,, A,, A,, A,, A,, A,, A,, A,, A,, A,, A,, A,, A,, A,, A,, A,, A,, A,, A,, A,, A,, A,, A,, A,, A,, A,, A,, [D,,A,,] [D,,A,,] [D,,A,,] [D,,A,,] [D,,A,,] [D,,A,,] [^D,,A,,] [D,,A,,] [D,,A,,] [D,,A,,] [D,,A,,] [D,,A,,] [E,,A,,] [E,,A,,] [E,,A,,] [E,,A,,] [E,,^G,,] [E,,G,,] [A,,,A,,] A,, A,, A,, A,, A,, A,, A,, A,, A,, A,, A,, A,, A,, A,, A,, A,, A,, A,, A,, A,, A,, A,, A,, _B,, B,, B,, B,, B,, B,, _B,, B,, B,, B,, B,, B,, _B,, B,, B,, B,, B,, B,, =B,, B,, B,, B,, B,, B,, C,2 z2 z2 [E,2^G,2] z2 z2 A,,,2 z2 [A,2C2E2] [A,2C2E2] z2 [A,2C2E2] [A,2C2E2] z2 [A,2C2E2] [A,2C2E2] z2 z2 z6 z6 A,, E, A, z z2 E,, E, ^G, z z2 A,, E, A, z z2 z6 A,, E, A, z z2 E,, E, ^G, z z2 A,, E, A, z z2 C, E, C z z2 G,, G, B, z z2 A,, E, A, z z2 E,, E, E z z E e z z ^d e z z ^d e z z2 z6 A,, E, A, z z2 E,, E, ^G, z z2 A,, E, A, z z2 z6 A,, E, A, z z2 E,, E, ^G, z z2 [A,,,4A,,4]\n"
     ]
    }
   ],
   "source": [
    "# define sequences for the right hand and left hand (sequence A, B, C, D) and the entire song with transitions to join sequences\n",
    "\n",
    "# sequence A\n",
    "seq_a = {\n",
    "    1: \" e ^d e ^d e B =d c A2 z C E A B2 z E ^G B c2 z E e ^d e ^d e B =d c A2 z C E A B2 z E c B \",\n",
    "    2: \" z2 z6 A,, E, A, z z2 E,, E, ^G, z z2 A,, E, A, z z2 z6 A,, E, A, z z2 E,, E, ^G, z z2 \"\n",
    "}\n",
    "\n",
    "# sequence B\n",
    "seq_b = {\n",
    "    1: \" e3 G f e d3 F e d c3 E d c B2 z E e z z e e' z z ^d e2 z ^d \" + seq_a[1],\n",
    "    2: \" C, E, C z z2 G,, G, B, z z2 A,, E, A, z z2 E,, E, E z z E e z z ^d e z z ^d e z \" + seq_a[2]\n",
    "}\n",
    "\n",
    "# sequence C\n",
    "seq_c = {\n",
    "    1: \" {FA} c4 f>e e2 d2 _b>a a g f e d c _B2 A2 {B} A/ G/ A/ B/ c4 d ^d e3 e f A c4 d>B c/ g/ G/ g/ A/ g/ B/ g/ c/ g/ d/ g/ e/ g/ c'/ b/ a/ g/ f/ e/ d/ g/ f/ d/ c/ g/ G/ g/ A/ g/ B/ g/ c/ g/ d/ g/ e/ g/ c'/ b/ a/ g/ f/ e/ d/ g/ f/ d/ e/ f/ e/ ^d/ e/ B/ e/ d/ e/ B/ e/ d/ e3 B e ^d e3 B e ^d e ^d e ^d \",\n",
    "    2: \" F, A, C A, C A, F, _B, D B, D B, F, E [F,G,_B,] E [F,G,B,] E F, A, C A, C A, F, A, C A, C A, E, A, C A, [D,D] F, G, E G, F G, F [C2E2] z [FG] [EG] [DFG] [C2E2G2] [F,2A,2] [F,2A,2] C2 z [FG] [EG] [DFG] [C2E2G2] [F,2A,2] [G,2B,2] [^G,2B,2] z2 z2 z6 z6 z4 \"\n",
    "}\n",
    "\n",
    "# sequence D\n",
    "seq_d = {\n",
    "    1: \" A2 z2 z2 [E6G6_B6^c6] [F4A4d4] [^ce] [df] [^G4d4f4] [G2d2f2] [A6=c6e6] [F4d4] [Ec] [DB] [C4^F4A4] [C2A2] [C2A2] [E2c2] [D2B2] [C6A6] [E6G6_B6^c6] [F4A4d4] [^ce] [df] [d4f4] [d2f2] [d6f6] [G4_e4] [Fd] [_Ec] [D4F4_B4] [D2F2A2] [D4F4^G4] [D2F2G2] [C4=E4A4] z2 [E2B2] z2 z2 (3 A, C E (3 A c e (3 d c B (3 A c e (3 a c' e' (3 d' c' b (3 a c' e' (3 a' c'' e'' (3 d'' c'' b' (3 _b' a' _a' (3 g' _g' f' (3 e' _e' d' (3 _d' c' b (3 _b a _a (3 g _g f \",\n",
    "    2: \" A,, A,, A,, A,, A,, A,, A,, A,, A,, A,, A,, A,, A,, A,, A,, A,, A,, A,, A,, A,, A,, A,, A,, A,, A,, A,, A,, A,, A,, A,, [D,,A,,] [D,,A,,] [D,,A,,] [D,,A,,] [D,,A,,] [D,,A,,] [^D,,A,,] [D,,A,,] [D,,A,,] [D,,A,,] [D,,A,,] [D,,A,,] [E,,A,,] [E,,A,,] [E,,A,,] [E,,A,,] [E,,^G,,] [E,,G,,] [A,,,A,,] A,, A,, A,, A,, A,, A,, A,, A,, A,, A,, A,, A,, A,, A,, A,, A,, A,, A,, A,, A,, A,, A,, A,, _B,, B,, B,, B,, B,, B,, _B,, B,, B,, B,, B,, B,, _B,, B,, B,, B,, B,, B,, =B,, B,, B,, B,, B,, B,, C,2 z2 z2 [E,2^G,2] z2 z2 A,,,2 z2 [A,2C2E2] [A,2C2E2] z2 [A,2C2E2] [A,2C2E2] z2 [A,2C2E2] [A,2C2E2] z2 z2 z6 \"\n",
    "}\n",
    "\n",
    "# combine sequences A, B, C, and D into the final song, specifying notes for the right and left hands\n",
    "song = {\n",
    "    1: seq_a[1] + \" A4 \" + seq_a[1] + \" A2 z B c d \" + seq_b[1] + \" A2 z B c d \" + seq_b[1] + \" A2 z [Ec] [Fc] [EGc] \" + seq_c[1] + seq_a[1] + \" A2 z B c d \" + seq_b[1] + seq_d[1] + seq_a[1][5:] + \" A2 z B c d \" + seq_b[1] + \" A4 \",\n",
    "    2: seq_a[2] + \" A,, E, A, z \" + seq_a[2] + \" A,, E, A, z z2 \" + seq_b[2] + \" A,, E, A, z z2 \" + seq_b[2] + \" A,, E, A, [_B,C] [A,C] [G,B,C] \" + seq_c[2] + seq_a[2] + \" A,, E, A, z z2 \" + seq_b[2] + seq_d[2] + seq_a[2][3:] + \" A,, E, A, z z2 \" + seq_b[2] + \" [A,,,4A,,4] \"\n",
    "}\n",
    "\n",
    "# remove extra spaces from sequences in the song\n",
    "song[1] = \" \".join(song[1].split())\n",
    "song[2] = \" \".join(song[2].split())\n",
    "\n",
    "# print the song for the right hand and left hand\n",
    "print(\"right hand:\")\n",
    "print(song[1])\n",
    "print(\"\\nleft hand:\")\n",
    "print(song[2])"
   ]
  },
  {
   "attachments": {},
   "cell_type": "markdown",
   "metadata": {},
   "source": [
    "The `all_notes` variable defines a set of musical notes and symbols to create a comprehensive list of supported notes for music processing. Here's a breakdown of what the ABC format means:\n",
    "\n",
    "1. **Defining Base Notes:**\n",
    "   - While it is intuitive to think of notes as A, B, C, D, E, F, G, many musicians may be familiar with the order C, D, E, F, G, A, B. This is because the chromatic scale begins with C.\n",
    "\n",
    "2. **Adding Octaves**\n",
    "   - The octave containing \"Middle C\" (C4) is represented in simple lowercase letters: `c d e f g a b`. Every increasing octave adds a `'` after the letter. The octave just below Middle C is represented as simple uppercase letters: `C D E F G A B`. Every decreasing octave adds a `,` after the letter.\n",
    "\n",
    "3. **Adding Accidentals:**\n",
    "   - All notes with accidentals are included (i.e., flats, naturals, and sharps). For music processing outside of the domain of sheet music, naturals have very redundant meaning so they eventually get processed out of the data before frequencies are computed. These accidentals are represented as `_`, `=`, and `^`, respectively, to the forefront of the note. e.g. `^c` is \"Middle C Sharp\".\n",
    "\n",
    "4. **Adding a Rest:**\n",
    "   - Finally, the rest is added as a special note: `z`.\n",
    "\n",
    "This process results in a complete set of musical notes, including variations in octaves and symbols, ready for use in music notation and processing."
   ]
  },
  {
   "cell_type": "code",
   "execution_count": 267,
   "metadata": {},
   "outputs": [
    {
     "name": "stdout",
     "output_type": "stream",
     "text": [
      "281 notes generated\n",
      "\n",
      " ['A,,,,', 'A,,,', 'A,,', 'A,', \"a''''\", \"a'''\", \"a''\", \"a'\", 'B,,,,', 'B,,,', 'B,,', 'B,', \"b''''\", \"b'''\", \"b''\", \"b'\", 'C,,,,', 'C,,,', 'C,,', 'C,', \"c''''\", \"c'''\", \"c''\", \"c'\", 'D,,,,', 'D,,,', 'D,,', 'D,', \"d''''\", \"d'''\", \"d''\", \"d'\", 'E,,,,', 'E,,,', 'E,,', 'E,', \"e''''\", \"e'''\", \"e''\", \"e'\", 'F,,,,', 'F,,,', 'F,,', 'F,', \"f''''\", \"f'''\", \"f''\", \"f'\", 'G,,,,', 'G,,,', 'G,,', 'G,', \"g''''\", \"g'''\", \"g''\", \"g'\", 'A', 'B', 'C', 'D', 'E', 'F', 'G', 'a', 'b', 'c', 'd', 'e', 'f', 'g', '_A,,,,', '_A,,,', '_A,,', '_A,', \"_a''''\", \"_a'''\", \"_a''\", \"_a'\", '_B,,,,', '_B,,,', '_B,,', '_B,', \"_b''''\", \"_b'''\", \"_b''\", \"_b'\", '_C,,,,', '_C,,,', '_C,,', '_C,', \"_c''''\", \"_c'''\", \"_c''\", \"_c'\", '_D,,,,', '_D,,,', '_D,,', '_D,', \"_d''''\", \"_d'''\", \"_d''\", \"_d'\", '_E,,,,', '_E,,,', '_E,,', '_E,', \"_e''''\", \"_e'''\", \"_e''\", \"_e'\", '_F,,,,', '_F,,,', '_F,,', '_F,', \"_f''''\", \"_f'''\", \"_f''\", \"_f'\", '_G,,,,', '_G,,,', '_G,,', '_G,', \"_g''''\", \"_g'''\", \"_g''\", \"_g'\", '_A', '_B', '_C', '_D', '_E', '_F', '_G', '_a', '_b', '_c', '_d', '_e', '_f', '_g', '=A,,,,', '=A,,,', '=A,,', '=A,', \"=a''''\", \"=a'''\", \"=a''\", \"=a'\", '=B,,,,', '=B,,,', '=B,,', '=B,', \"=b''''\", \"=b'''\", \"=b''\", \"=b'\", '=C,,,,', '=C,,,', '=C,,', '=C,', \"=c''''\", \"=c'''\", \"=c''\", \"=c'\", '=D,,,,', '=D,,,', '=D,,', '=D,', \"=d''''\", \"=d'''\", \"=d''\", \"=d'\", '=E,,,,', '=E,,,', '=E,,', '=E,', \"=e''''\", \"=e'''\", \"=e''\", \"=e'\", '=F,,,,', '=F,,,', '=F,,', '=F,', \"=f''''\", \"=f'''\", \"=f''\", \"=f'\", '=G,,,,', '=G,,,', '=G,,', '=G,', \"=g''''\", \"=g'''\", \"=g''\", \"=g'\", '=A', '=B', '=C', '=D', '=E', '=F', '=G', '=a', '=b', '=c', '=d', '=e', '=f', '=g', '^A,,,,', '^A,,,', '^A,,', '^A,', \"^a''''\", \"^a'''\", \"^a''\", \"^a'\", '^B,,,,', '^B,,,', '^B,,', '^B,', \"^b''''\", \"^b'''\", \"^b''\", \"^b'\", '^C,,,,', '^C,,,', '^C,,', '^C,', \"^c''''\", \"^c'''\", \"^c''\", \"^c'\", '^D,,,,', '^D,,,', '^D,,', '^D,', \"^d''''\", \"^d'''\", \"^d''\", \"^d'\", '^E,,,,', '^E,,,', '^E,,', '^E,', \"^e''''\", \"^e'''\", \"^e''\", \"^e'\", '^F,,,,', '^F,,,', '^F,,', '^F,', \"^f''''\", \"^f'''\", \"^f''\", \"^f'\", '^G,,,,', '^G,,,', '^G,,', '^G,', \"^g''''\", \"^g'''\", \"^g''\", \"^g'\", '^A', '^B', '^C', '^D', '^E', '^F', '^G', '^a', '^b', '^c', '^d', '^e', '^f', '^g', 'z']\n"
     ]
    }
   ],
   "source": [
    "# print the number of generated notes and the list of all notes\n",
    "print(len(all_notes), \"notes generated\\n\\n\", all_notes)"
   ]
  },
  {
   "attachments": {},
   "cell_type": "markdown",
   "metadata": {},
   "source": [
    "The `parse_voice_abc` function essentially breaks down simple ABC-derived notation for musical notes into a structured format that captures note types, durations, and any additional musical symbols like grace notes, triplets, or chords. However, it doesn't exhaustively process all possible ABC notations, hence the use of the phrase _\"simple ABC-derived notation\"_.\n",
    "\n",
    "1. **Initialization and Setup**\n",
    "   - The function `parse_voice_abc` is defined to extract notes, durations, and types from a line of ABC notation representing a \"voice line\".\n",
    "   - It initializes `parsed_notes`, a list to store parsed notes with their properties.\n",
    "   - `grace_time` is set to 0.25 to define the duration for grace notes, and `grace_count` tracks the number of grace notes encountered.\n",
    "\n",
    "2. **Processing the Line**\n",
    "   - The line is split into note groups by spaces (`note_groups = line.split(' ')`).\n",
    "   - `trip_count` is used to track triplet notes.\n",
    "\n",
    "3. **Parsing Note Groups**\n",
    "   - Each note group is processed to extract note type, original format, parsed format without duration, and duration as a float.\n",
    "   - The code handles single notes, notes with added time measures, broken notes, triplets, chords, and grace notes.\n",
    "   - It also adjusts durations based on grace note counts and handles accidentals (sharp, flat, natural).\n",
    "\n",
    "4. **Return Value**\n",
    "   - The function returns `parsed_notes`, a list of tuples containing parsed notes with their properties (type, original note, parsed note, duration, accidentals, modified note).\n",
    "   - e.g., `('single', '^e2', '^e', 2.0, '^', 'e')`"
   ]
  },
  {
   "cell_type": "code",
   "execution_count": 268,
   "metadata": {},
   "outputs": [
    {
     "name": "stdout",
     "output_type": "stream",
     "text": [
      "right hand stats:\n",
      "length: 628\n",
      "head=1: ('single', 'e', 'e', 1.0, '=', 'e')\n",
      "duration: 750.0014999999996\n",
      "\n",
      "left hand stats:\n",
      "length: 557\n",
      "head=1: ('single', 'z2', 'z', 2.0, '=', 'z')\n",
      "duration: 750.0\n"
     ]
    }
   ],
   "source": [
    "sample = song\n",
    "\n",
    "right_hand = parse_voice_abc(sample[1])\n",
    "left_hand = parse_voice_abc(sample[2])\n",
    "\n",
    "print(\"right hand stats:\")\n",
    "print(\"length:\", len(right_hand))\n",
    "print(\"head=1:\", right_hand[0])\n",
    "print(\"duration:\", sum([note_group[3] for note_group in right_hand]))\n",
    "print()\n",
    "\n",
    "print(\"left hand stats:\")\n",
    "print(\"length:\", len(left_hand))\n",
    "print(\"head=1:\", left_hand[0])\n",
    "print(\"duration:\", sum([note_group[3] for note_group in left_hand]))"
   ]
  },
  {
   "attachments": {},
   "cell_type": "markdown",
   "metadata": {},
   "source": [
    "There are special mappings for note accidentals, octaves, and notes. These mappings are essential for converting ABC notation into data structures suitable for frequency and duration calculations in music processing.\n",
    "\n",
    "1. Accidental Map\n",
    "- For each note, it specifies how an accidental affects that note, e.g., `_` lowers the note, `=` keeps it the same, and `^` raises it.\n",
    "- This map is used to convert different accidental notations (flats, naturals, and sharps) to a simplified set for easier processing.\n",
    "- Each note (`a`, `b`, `c`, `d`, `e`, `f`, `g`) has a corresponding dictionary mapping accidental notations (`_`, `=`, `^`) to their simplified form.\n",
    "\n",
    "1. Octave Map\n",
    "- This map converts ABC notation octave symbols to numeric octave values, aligning them with the \"middle C\" note, which is represented as \"C4\" in numeric notation.\n",
    "- It uses lambda functions to check for specific patterns in the octave notation and assigns numeric values accordingly.\n",
    "\n",
    "1. Note Map\n",
    "- This map assigns numeric values to each key note and its variations (with accidentals), relative to C, for frequency computation purposes.\n",
    "- For example, `c` is assigned 0, `^c` (C sharp) is 1, `d` is 2, and so on, up to `b` which is assigned 11.\n",
    "- More information on how frequncies are calculated is given later in this document. So keep on reading, good reader ;)"
   ]
  },
  {
   "attachments": {},
   "cell_type": "markdown",
   "metadata": {},
   "source": [
    "The `convert_abc_parsed` function is designed to convert parsed ABC notation into standardized notes, octaves, and durations for musical processing using the aforementioned mappings. The code essentially takes a musical notation format, handles rests, maps notes and octaves to standard forms, and prepares the data for further musical analysis or representation.\n",
    "\n",
    "Steps in the Code\n",
    "1. **Initialize Variables:** The code starts by initializing a list to store compressed notes and sets up variables to handle rests.\n",
    "2. **Compress Rests:** It loops through the parsed ABC notes, identifying consecutive rest notes and compressing them into a single rest note with summed durations.\n",
    "3. **Extract Notes, Octaves, and Durations:** The compressed notes are then processed to extract the standard notes, standard octaves, and durations.\n",
    "4. **Standardization:** It maps notes to their standard forms using defined mappings for accidentals and octaves, creating a list of processed notes with standardized information.\n",
    "5. **Return Result:** Finally, the processed notes are returned as a list containing standardized notes, octaves, and durations."
   ]
  },
  {
   "cell_type": "code",
   "execution_count": 269,
   "metadata": {},
   "outputs": [
    {
     "name": "stdout",
     "output_type": "stream",
     "text": [
      "right hand stats:\n",
      "length: 618\n",
      "head=1: ('4', '5', 1.0)\n",
      "beats: 750.0014999999996\n",
      "\n",
      "left hand stats:\n",
      "length: 459\n",
      "head=1: ('z', '', 8.0)\n",
      "beats: 750.0\n"
     ]
    }
   ],
   "source": [
    "right_hand_converted = convert_abc_parsed(right_hand)\n",
    "left_hand_converted = convert_abc_parsed(left_hand)\n",
    "\n",
    "print(\"right hand stats:\")\n",
    "print(\"length:\", len(right_hand_converted))\n",
    "print(\"head=1:\", right_hand_converted[0])\n",
    "print(\"beats:\", sum([note_group[2] for note_group in right_hand_converted]))\n",
    "print()\n",
    "\n",
    "print(\"left hand stats:\")\n",
    "print(\"length:\", len(left_hand_converted))\n",
    "print(\"head=1:\", left_hand_converted[0])\n",
    "print(\"beats:\", sum([note_group[2] for note_group in left_hand_converted]))"
   ]
  },
  {
   "attachments": {},
   "cell_type": "markdown",
   "metadata": {},
   "source": [
    "The `transform2freq` function aims to convert standardized musical notes, octaves, and durations into raw frequencies and durations suitable for generating sound. Here's a breakdown of what it does:\n",
    "\n",
    "1. **Initialization**: Sets up the base frequency and octave, as well as empty lists for storing frequencies and durations.\n",
    "2. **Iteration**: Loops through each group of converted notes, splitting notes and octaves if there are multiple notes (useful for chords).\n",
    "3. **Processing Rests**: Handles cases where the note is a rest (denoted by \"z\"), calculating the rest duration and formatting it for sound generation.\n",
    "4. **Processing Chords**: Deals with chords (multiple notes played simultaneously), calculating frequencies for each note in the chord and formatting them as a list for sound generation.\n",
    "5. **Processing Single Notes**: Calculates frequencies and durations for single notes.\n",
    "6. **Appending Results**: Adds the calculated frequency and duration to their respective lists.\n",
    "7. **Return**: Returns the lists of frequencies and durations for further use in sound generation."
   ]
  },
  {
   "attachments": {},
   "cell_type": "markdown",
   "metadata": {},
   "source": [
    "How frequencies of notes are computed based on their values and octave order:\n",
    "\n",
    "- The formula for calculating the frequency of a note is given by:\n",
    "\n",
    "$ \\text{Frequency} = \\text{Base Frequency} \\times 2^{\\left( \\frac{\\text{Note Value}}{12} \\right)} \\times 2^{\\left( \\text{Octave Order} - \\text{Base Octave} \\right)} $\n",
    "\n",
    "- In this formula:\n",
    "  - Note Value represents the position of the note in the chromatic scale (e.g., C = 0, C# = 1, D = 2, and so on).\n",
    "  - Base frequency is the reference frequency, set to 261.63 Hz, which corresponds to middle C (C4).\n",
    "  - Octave Order indicates which octave the note belongs to.\n",
    "  - Base Octave is the reference octave, set to 4 for middle C (C4).\n",
    "\n",
    "By plugging in the appropriate values for Note Value and Octave Order, the formula calculates the frequency of the note in Hertz (Hz).\n",
    "\n",
    "For example, this is the frequency computation for the note A3:\n",
    "\n",
    "$$\n",
    "\\begin{align*}\n",
    "\\text{A3 Frequency} & = 261.63 \\times 2^{\\left( \\frac{9}{12} \\right)} \\times 2^{\\left( 3 - 4 \\right)} \\\\\n",
    "& = 261.63 \\times 2^{\\left( 0.75 \\right)} \\times 2^{\\left( -1 \\right)} \\\\\n",
    "& = 220.00 \\text{ Hz}\n",
    "\\end{align*}\n",
    "$$"
   ]
  },
  {
   "cell_type": "code",
   "execution_count": 270,
   "metadata": {},
   "outputs": [
    {
     "name": "stdout",
     "output_type": "stream",
     "text": [
      "right hand stats:\n",
      "length: 2\n",
      "head=1: ['659.2663', '0.25']\n",
      "duration: 187.50015000000047\n",
      "\n",
      "left hand stats:\n",
      "length: 2\n",
      "head=1: ['Rest(2.0)', '2.0']\n",
      "duration: 187.5\n"
     ]
    }
   ],
   "source": [
    "right_hand_transformed = transform2freq(right_hand_converted, tempo = 240)\n",
    "left_hand_transformed = transform2freq(left_hand_converted, tempo = 240)\n",
    "\n",
    "print(\"right hand stats:\")\n",
    "print(\"length:\", len(right_hand_transformed))\n",
    "print(\"head=1:\", [right_hand_transformed[i][0] for i in range(2)])\n",
    "print(\"duration:\", sum([float(note_group) for note_group in right_hand_transformed[1]]))\n",
    "print()\n",
    "\n",
    "print(\"left hand stats:\")\n",
    "print(\"length:\", len(left_hand_transformed))\n",
    "print(\"head=1:\", [left_hand_transformed[i][0] for i in range(2)])\n",
    "print(\"duration:\", sum([float(note_group) for note_group in left_hand_transformed[1]]))"
   ]
  },
  {
   "attachments": {},
   "cell_type": "markdown",
   "metadata": {},
   "source": [
    "This is a simple template for generating SuperCollider code to play piano notes using `Pbind`, which is a pattern class for musical patterns. Here's what each part of the code does:\n",
    "\n",
    "- `supercollider_template` is a template string containing placeholders for left-hand and right-hand note sequences, their durations, amplitudes, and a recording command.\n",
    "- `print(supercollider_template.format(...))` substitutes the placeholders in the template with actual values and prints the resulting SuperCollider code.\n",
    "- `left_hand_transformed` and `right_hand_transformed` are sequences of frequencies and durations for the left and right hands of the piano.\n",
    "- `{left[0]}` and `{right[0]}` represent the frequency sequences for the left and right hands respectively.\n",
    "- `{left[1]}` and `{right[1]}` represent the duration sequences for the left and right hands respectively.\n",
    "- `{left_amp}` and `{right_amp}` represent the amplitudes for the left and right hands respectively.\n",
    "- `s.record(duration: 200);` is a command to record the music for 200 seconds.\n",
    "\n",
    "The code uses Python's `.format()` method to insert these values into the SuperCollider template, creating a complete SuperCollider script for playing the piano notes with specified frequencies, durations, and amplitudes, and then recording the output."
   ]
  },
  {
   "cell_type": "code",
   "execution_count": 271,
   "metadata": {},
   "outputs": [
    {
     "name": "stdout",
     "output_type": "stream",
     "text": [
      "\n",
      "(\n",
      "\tvar piano_left, piano_right;\n",
      "\n",
      "\tpiano_left = Pbind(\n",
      "\t\t\\freq, Pseq( [Rest(2.0), 110.0019, 164.8166, 220.0037, Rest(0.75), 82.4083, 164.8166, 207.6559, Rest(0.75), 110.0019, 164.8166, 220.0037, Rest(2.25), 110.0019, 164.8166, 220.0037, Rest(0.75), 82.4083, 164.8166, 207.6559, Rest(0.75), 110.0019, 164.8166, 220.0037, Rest(2.25), 110.0019, 164.8166, 220.0037, Rest(0.75), 82.4083, 164.8166, 207.6559, Rest(0.75), 110.0019, 164.8166, 220.0037, Rest(2.25), 110.0019, 164.8166, 220.0037, Rest(0.75), 82.4083, 164.8166, 207.6559, Rest(0.75), 110.0019, 164.8166, 220.0037, Rest(0.75), 130.815, 164.8166, 261.63, Rest(0.75), 98.0005, 196.001, 246.9458, Rest(0.75), 110.0019, 164.8166, 220.0037, Rest(0.75), 82.4083, 164.8166, 329.6331, Rest(0.5), 329.6331, 659.2663, Rest(0.5), 622.2645, 659.2663, Rest(0.5), 622.2645, 659.2663, Rest(2.25), 110.0019, 164.8166, 220.0037, Rest(0.75), 82.4083, 164.8166, 207.6559, Rest(0.75), 110.0019, 164.8166, 220.0037, Rest(2.25), 110.0019, 164.8166, 220.0037, Rest(0.75), 82.4083, 164.8166, 207.6559, Rest(0.75), 110.0019, 164.8166, 220.0037, Rest(0.75), 130.815, 164.8166, 261.63, Rest(0.75), 98.0005, 196.001, 246.9458, Rest(0.75), 110.0019, 164.8166, 220.0037, Rest(0.75), 82.4083, 164.8166, 329.6331, Rest(0.5), 329.6331, 659.2663, Rest(0.5), 622.2645, 659.2663, Rest(0.5), 622.2645, 659.2663, Rest(2.25), 110.0019, 164.8166, 220.0037, Rest(0.75), 82.4083, 164.8166, 207.6559, Rest(0.75), 110.0019, 164.8166, 220.0037, Rest(2.25), 110.0019, 164.8166, 220.0037, Rest(0.75), 82.4083, 164.8166, 207.6559, Rest(0.75), 110.0019, 164.8166, 220.0037, [233.0858, 261.63], [220.0037, 261.63], [196.001, 246.9458, 261.63], 174.6171, 220.0037, 261.63, 220.0037, 261.63, 220.0037, 174.6171, 233.0858, 293.6697, 246.9458, 293.6697, 246.9458, 174.6171, 329.6331, [174.6171, 196.001, 233.0858], 329.6331, [174.6171, 196.001, 246.9458], 329.6331, 174.6171, 220.0037, 261.63, 220.0037, 261.63, 220.0037, 174.6171, 220.0037, 261.63, 220.0037, 261.63, 220.0037, 164.8166, 220.0037, 261.63, 220.0037, [146.8349, 293.6697], 174.6171, 196.001, 329.6331, 196.001, 349.2342, 196.001, 349.2342, [261.63, 329.6331], Rest(0.25), [349.2342, 392.0021], [329.6331, 392.0021], [293.6697, 349.2342, 392.0021], [261.63, 329.6331, 392.0021], [174.6171, 220.0037], [174.6171, 220.0037], 261.63, Rest(0.25), [349.2342, 392.0021], [329.6331, 392.0021], [293.6697, 349.2342, 392.0021], [261.63, 329.6331, 392.0021], [174.6171, 220.0037], [196.001, 246.9458], [207.6559, 246.9458], Rest(7.0), 110.0019, 164.8166, 220.0037, Rest(0.75), 82.4083, 164.8166, 207.6559, Rest(0.75), 110.0019, 164.8166, 220.0037, Rest(2.25), 110.0019, 164.8166, 220.0037, Rest(0.75), 82.4083, 164.8166, 207.6559, Rest(0.75), 110.0019, 164.8166, 220.0037, Rest(0.75), 130.815, 164.8166, 261.63, Rest(0.75), 98.0005, 196.001, 246.9458, Rest(0.75), 110.0019, 164.8166, 220.0037, Rest(0.75), 82.4083, 164.8166, 329.6331, Rest(0.5), 329.6331, 659.2663, Rest(0.5), 622.2645, 659.2663, Rest(0.5), 622.2645, 659.2663, Rest(2.25), 110.0019, 164.8166, 220.0037, Rest(0.75), 82.4083, 164.8166, 207.6559, Rest(0.75), 110.0019, 164.8166, 220.0037, Rest(2.25), 110.0019, 164.8166, 220.0037, Rest(0.75), 82.4083, 164.8166, 207.6559, Rest(0.75), 110.0019, 110.0019, 110.0019, 110.0019, 110.0019, 110.0019, 110.0019, 110.0019, 110.0019, 110.0019, 110.0019, 110.0019, 110.0019, 110.0019, 110.0019, 110.0019, 110.0019, 110.0019, 110.0019, 110.0019, 110.0019, 110.0019, 110.0019, 110.0019, 110.0019, 110.0019, 110.0019, 110.0019, 110.0019, 110.0019, [73.4174, 110.0019], [73.4174, 110.0019], [73.4174, 110.0019], [73.4174, 110.0019], [73.4174, 110.0019], [73.4174, 110.0019], [77.7831, 110.0019], [73.4174, 110.0019], [73.4174, 110.0019], [73.4174, 110.0019], [73.4174, 110.0019], [73.4174, 110.0019], [82.4083, 110.0019], [82.4083, 110.0019], [82.4083, 110.0019], [82.4083, 110.0019], [82.4083, 103.8279], [82.4083, 98.0005], [55.0009, 110.0019], 110.0019, 110.0019, 110.0019, 110.0019, 110.0019, 110.0019, 110.0019, 110.0019, 110.0019, 110.0019, 110.0019, 110.0019, 110.0019, 110.0019, 110.0019, 110.0019, 110.0019, 110.0019, 110.0019, 110.0019, 110.0019, 110.0019, 110.0019, 116.5429, 123.4729, 123.4729, 123.4729, 123.4729, 123.4729, 116.5429, 123.4729, 123.4729, 123.4729, 123.4729, 123.4729, 116.5429, 123.4729, 123.4729, 123.4729, 123.4729, 123.4729, 123.4729, 123.4729, 123.4729, 123.4729, 123.4729, 123.4729, 130.815, Rest(1.0), [164.8166, 207.6559], Rest(1.0), 55.0009, Rest(0.5), [220.0037, 261.63, 329.6331], [220.0037, 261.63, 329.6331], Rest(0.5), [220.0037, 261.63, 329.6331], [220.0037, 261.63, 329.6331], Rest(0.5), [220.0037, 261.63, 329.6331], [220.0037, 261.63, 329.6331], Rest(4.0), 110.0019, 164.8166, 220.0037, Rest(0.75), 82.4083, 164.8166, 207.6559, Rest(0.75), 110.0019, 164.8166, 220.0037, Rest(2.25), 110.0019, 164.8166, 220.0037, Rest(0.75), 82.4083, 164.8166, 207.6559, Rest(0.75), 110.0019, 164.8166, 220.0037, Rest(0.75), 130.815, 164.8166, 261.63, Rest(0.75), 98.0005, 196.001, 246.9458, Rest(0.75), 110.0019, 164.8166, 220.0037, Rest(0.75), 82.4083, 164.8166, 329.6331, Rest(0.5), 329.6331, 659.2663, Rest(0.5), 622.2645, 659.2663, Rest(0.5), 622.2645, 659.2663, Rest(2.25), 110.0019, 164.8166, 220.0037, Rest(0.75), 82.4083, 164.8166, 207.6559, Rest(0.75), 110.0019, 164.8166, 220.0037, Rest(2.25), 110.0019, 164.8166, 220.0037, Rest(0.75), 82.4083, 164.8166, 207.6559, Rest(0.75), [55.0009, 110.0019]], 1),\n",
      "\t\t\\dur, Pseq( [2.0, 0.25, 0.25, 0.25, 0.75, 0.25, 0.25, 0.25, 0.75, 0.25, 0.25, 0.25, 2.25, 0.25, 0.25, 0.25, 0.75, 0.25, 0.25, 0.25, 0.75, 0.25, 0.25, 0.25, 2.25, 0.25, 0.25, 0.25, 0.75, 0.25, 0.25, 0.25, 0.75, 0.25, 0.25, 0.25, 2.25, 0.25, 0.25, 0.25, 0.75, 0.25, 0.25, 0.25, 0.75, 0.25, 0.25, 0.25, 0.75, 0.25, 0.25, 0.25, 0.75, 0.25, 0.25, 0.25, 0.75, 0.25, 0.25, 0.25, 0.75, 0.25, 0.25, 0.25, 0.5, 0.25, 0.25, 0.5, 0.25, 0.25, 0.5, 0.25, 0.25, 2.25, 0.25, 0.25, 0.25, 0.75, 0.25, 0.25, 0.25, 0.75, 0.25, 0.25, 0.25, 2.25, 0.25, 0.25, 0.25, 0.75, 0.25, 0.25, 0.25, 0.75, 0.25, 0.25, 0.25, 0.75, 0.25, 0.25, 0.25, 0.75, 0.25, 0.25, 0.25, 0.75, 0.25, 0.25, 0.25, 0.75, 0.25, 0.25, 0.25, 0.5, 0.25, 0.25, 0.5, 0.25, 0.25, 0.5, 0.25, 0.25, 2.25, 0.25, 0.25, 0.25, 0.75, 0.25, 0.25, 0.25, 0.75, 0.25, 0.25, 0.25, 2.25, 0.25, 0.25, 0.25, 0.75, 0.25, 0.25, 0.25, 0.75, 0.25, 0.25, 0.25, 0.25, 0.25, 0.25, 0.25, 0.25, 0.25, 0.25, 0.25, 0.25, 0.25, 0.25, 0.25, 0.25, 0.25, 0.25, 0.25, 0.25, 0.25, 0.25, 0.25, 0.25, 0.25, 0.25, 0.25, 0.25, 0.25, 0.25, 0.25, 0.25, 0.25, 0.25, 0.25, 0.25, 0.25, 0.25, 0.25, 0.25, 0.25, 0.25, 0.25, 0.25, 0.25, 0.25, 0.25, 0.25, 0.5, 0.25, 0.25, 0.25, 0.25, 0.5, 0.5, 0.5, 0.5, 0.25, 0.25, 0.25, 0.25, 0.5, 0.5, 0.5, 0.5, 7.0, 0.25, 0.25, 0.25, 0.75, 0.25, 0.25, 0.25, 0.75, 0.25, 0.25, 0.25, 2.25, 0.25, 0.25, 0.25, 0.75, 0.25, 0.25, 0.25, 0.75, 0.25, 0.25, 0.25, 0.75, 0.25, 0.25, 0.25, 0.75, 0.25, 0.25, 0.25, 0.75, 0.25, 0.25, 0.25, 0.75, 0.25, 0.25, 0.25, 0.5, 0.25, 0.25, 0.5, 0.25, 0.25, 0.5, 0.25, 0.25, 2.25, 0.25, 0.25, 0.25, 0.75, 0.25, 0.25, 0.25, 0.75, 0.25, 0.25, 0.25, 2.25, 0.25, 0.25, 0.25, 0.75, 0.25, 0.25, 0.25, 0.75, 0.25, 0.25, 0.25, 0.25, 0.25, 0.25, 0.25, 0.25, 0.25, 0.25, 0.25, 0.25, 0.25, 0.25, 0.25, 0.25, 0.25, 0.25, 0.25, 0.25, 0.25, 0.25, 0.25, 0.25, 0.25, 0.25, 0.25, 0.25, 0.25, 0.25, 0.25, 0.25, 0.25, 0.25, 0.25, 0.25, 0.25, 0.25, 0.25, 0.25, 0.25, 0.25, 0.25, 0.25, 0.25, 0.25, 0.25, 0.25, 0.25, 0.25, 0.25, 0.25, 0.25, 0.25, 0.25, 0.25, 0.25, 0.25, 0.25, 0.25, 0.25, 0.25, 0.25, 0.25, 0.25, 0.25, 0.25, 0.25, 0.25, 0.25, 0.25, 0.25, 0.25, 0.25, 0.25, 0.25, 0.25, 0.25, 0.25, 0.25, 0.25, 0.25, 0.25, 0.25, 0.25, 0.25, 0.25, 0.25, 0.25, 0.25, 0.25, 0.25, 0.25, 0.25, 0.25, 0.25, 0.5, 1.0, 0.5, 1.0, 0.5, 0.5, 0.5, 0.5, 0.5, 0.5, 0.5, 0.5, 0.5, 0.5, 4.0, 0.25, 0.25, 0.25, 0.75, 0.25, 0.25, 0.25, 0.75, 0.25, 0.25, 0.25, 2.25, 0.25, 0.25, 0.25, 0.75, 0.25, 0.25, 0.25, 0.75, 0.25, 0.25, 0.25, 0.75, 0.25, 0.25, 0.25, 0.75, 0.25, 0.25, 0.25, 0.75, 0.25, 0.25, 0.25, 0.75, 0.25, 0.25, 0.25, 0.5, 0.25, 0.25, 0.5, 0.25, 0.25, 0.5, 0.25, 0.25, 2.25, 0.25, 0.25, 0.25, 0.75, 0.25, 0.25, 0.25, 0.75, 0.25, 0.25, 0.25, 2.25, 0.25, 0.25, 0.25, 0.75, 0.25, 0.25, 0.25, 0.75, 1.0], 1),\n",
      "\t\t\\amp, 0.4\n",
      "\t).play;\n",
      "\n",
      "\tpiano_right = Pbind(\n",
      "\t\t\\freq, Pseq( [659.2663, 622.2645, 659.2663, 622.2645, 659.2663, 493.8917, 587.3395, 523.26, 440.0075, Rest(0.25), 261.63, 329.6331, 440.0075, 493.8917, Rest(0.25), 329.6331, 415.3117, 493.8917, 523.26, Rest(0.25), 329.6331, 659.2663, 622.2645, 659.2663, 622.2645, 659.2663, 493.8917, 587.3395, 523.26, 440.0075, Rest(0.25), 261.63, 329.6331, 440.0075, 493.8917, Rest(0.25), 329.6331, 523.26, 493.8917, 440.0075, 659.2663, 622.2645, 659.2663, 622.2645, 659.2663, 493.8917, 587.3395, 523.26, 440.0075, Rest(0.25), 261.63, 329.6331, 440.0075, 493.8917, Rest(0.25), 329.6331, 415.3117, 493.8917, 523.26, Rest(0.25), 329.6331, 659.2663, 622.2645, 659.2663, 622.2645, 659.2663, 493.8917, 587.3395, 523.26, 440.0075, Rest(0.25), 261.63, 329.6331, 440.0075, 493.8917, Rest(0.25), 329.6331, 523.26, 493.8917, 440.0075, Rest(0.25), 493.8917, 523.26, 587.3395, 659.2663, 392.0021, 698.4683, 659.2663, 587.3395, 349.2342, 659.2663, 587.3395, 523.26, 329.6331, 587.3395, 523.26, 493.8917, Rest(0.25), 329.6331, 659.2663, Rest(0.5), 659.2663, 1318.5326, Rest(0.5), 622.2645, 659.2663, Rest(0.25), 622.2645, 659.2663, 622.2645, 659.2663, 622.2645, 659.2663, 493.8917, 587.3395, 523.26, 440.0075, Rest(0.25), 261.63, 329.6331, 440.0075, 493.8917, Rest(0.25), 329.6331, 415.3117, 493.8917, 523.26, Rest(0.25), 329.6331, 659.2663, 622.2645, 659.2663, 622.2645, 659.2663, 493.8917, 587.3395, 523.26, 440.0075, Rest(0.25), 261.63, 329.6331, 440.0075, 493.8917, Rest(0.25), 329.6331, 523.26, 493.8917, 440.0075, Rest(0.25), 493.8917, 523.26, 587.3395, 659.2663, 392.0021, 698.4683, 659.2663, 587.3395, 349.2342, 659.2663, 587.3395, 523.26, 329.6331, 587.3395, 523.26, 493.8917, Rest(0.25), 329.6331, 659.2663, Rest(0.5), 659.2663, 1318.5326, Rest(0.5), 622.2645, 659.2663, Rest(0.25), 622.2645, 659.2663, 622.2645, 659.2663, 622.2645, 659.2663, 493.8917, 587.3395, 523.26, 440.0075, Rest(0.25), 261.63, 329.6331, 440.0075, 493.8917, Rest(0.25), 329.6331, 415.3117, 493.8917, 523.26, Rest(0.25), 329.6331, 659.2663, 622.2645, 659.2663, 622.2645, 659.2663, 493.8917, 587.3395, 523.26, 440.0075, Rest(0.25), 261.63, 329.6331, 440.0075, 493.8917, Rest(0.25), 329.6331, 523.26, 493.8917, 440.0075, Rest(0.25), [329.6331, 523.26], [349.2342, 523.26], [329.6331, 392.0021, 523.26], 349.2342, 440.0075, 523.26, 698.4683, 659.2663, 659.2663, 587.3395, 932.3433, 880.0149, 880.0149, 784.0042, 698.4683, 659.2663, 587.3395, 523.26, 466.1717, 440.0075, 493.8917, 440.0075, 392.0021, 440.0075, 493.8917, 523.26, 587.3395, 622.2645, 659.2663, 659.2663, 698.4683, 440.0075, 523.26, 587.3395, 493.8917, 523.26, 784.0042, 392.0021, 784.0042, 440.0075, 784.0042, 493.8917, 784.0042, 523.26, 784.0042, 587.3395, 784.0042, 659.2663, 784.0042, 1046.52, 987.7833, 880.0149, 784.0042, 698.4683, 659.2663, 587.3395, 784.0042, 698.4683, 587.3395, 523.26, 784.0042, 392.0021, 784.0042, 440.0075, 784.0042, 493.8917, 784.0042, 523.26, 784.0042, 587.3395, 784.0042, 659.2663, 784.0042, 1046.52, 987.7833, 880.0149, 784.0042, 698.4683, 659.2663, 587.3395, 784.0042, 698.4683, 587.3395, 659.2663, 698.4683, 659.2663, 622.2645, 659.2663, 493.8917, 659.2663, 587.3395, 659.2663, 493.8917, 659.2663, 587.3395, 659.2663, 493.8917, 659.2663, 622.2645, 659.2663, 493.8917, 659.2663, 622.2645, 659.2663, 622.2645, 659.2663, 622.2645, 659.2663, 622.2645, 659.2663, 622.2645, 659.2663, 493.8917, 587.3395, 523.26, 440.0075, Rest(0.25), 261.63, 329.6331, 440.0075, 493.8917, Rest(0.25), 329.6331, 415.3117, 493.8917, 523.26, Rest(0.25), 329.6331, 659.2663, 622.2645, 659.2663, 622.2645, 659.2663, 493.8917, 587.3395, 523.26, 440.0075, Rest(0.25), 261.63, 329.6331, 440.0075, 493.8917, Rest(0.25), 329.6331, 523.26, 493.8917, 440.0075, Rest(0.25), 493.8917, 523.26, 587.3395, 659.2663, 392.0021, 698.4683, 659.2663, 587.3395, 349.2342, 659.2663, 587.3395, 523.26, 329.6331, 587.3395, 523.26, 493.8917, Rest(0.25), 329.6331, 659.2663, Rest(0.5), 659.2663, 1318.5326, Rest(0.5), 622.2645, 659.2663, Rest(0.25), 622.2645, 659.2663, 622.2645, 659.2663, 622.2645, 659.2663, 493.8917, 587.3395, 523.26, 440.0075, Rest(0.25), 261.63, 329.6331, 440.0075, 493.8917, Rest(0.25), 329.6331, 415.3117, 493.8917, 523.26, Rest(0.25), 329.6331, 659.2663, 622.2645, 659.2663, 622.2645, 659.2663, 493.8917, 587.3395, 523.26, 440.0075, Rest(0.25), 261.63, 329.6331, 440.0075, 493.8917, Rest(0.25), 329.6331, 523.26, 493.8917, 440.0075, Rest(1.0), [329.6331, 392.0021, 466.1717, 554.3747], [349.2342, 440.0075, 587.3395], [554.3747, 659.2663], [587.3395, 698.4683], [415.3117, 587.3395, 698.4683], [392.0021, 587.3395, 698.4683], [440.0075, 523.26, 659.2663], [349.2342, 587.3395], [329.6331, 523.26], [293.6697, 493.8917], [261.63, 370.0007, 440.0075], [261.63, 440.0075], [261.63, 440.0075], [329.6331, 523.26], [293.6697, 493.8917], [261.63, 440.0075], [329.6331, 392.0021, 466.1717, 554.3747], [349.2342, 440.0075, 587.3395], [554.3747, 659.2663], [587.3395, 698.4683], [587.3395, 698.4683], [587.3395, 698.4683], [587.3395, 698.4683], [392.0021, 622.2645], [349.2342, 587.3395], [311.1323, 523.26], [293.6697, 349.2342, 466.1717], [293.6697, 349.2342, 440.0075], [293.6697, 349.2342, 415.3117], [293.6697, 349.2342, 392.0021], [261.63, 329.6331, 440.0075], Rest(0.5), [329.6331, 493.8917], Rest(1.0), 220.0037, 261.63, 329.6331, 440.0075, 523.26, 659.2663, 587.3395, 523.26, 493.8917, 440.0075, 523.26, 659.2663, 880.0149, 1046.52, 1318.5326, 1174.679, 1046.52, 987.7833, 880.0149, 1046.52, 1318.5326, 1760.0298, 2093.04, 2637.0652, 2349.358, 2093.04, 1975.5667, 1864.6867, 1760.0298, 1661.2469, 1568.0083, 1480.0028, 1396.9366, 1318.5326, 1244.529, 1174.679, 1108.7493, 1046.52, 987.7833, 932.3433, 880.0149, 830.6235, 784.0042, 740.0014, 698.4683, 659.2663, 622.2645, 659.2663, 493.8917, 587.3395, 523.26, 440.0075, Rest(0.25), 261.63, 329.6331, 440.0075, 493.8917, Rest(0.25), 329.6331, 415.3117, 493.8917, 523.26, Rest(0.25), 329.6331, 659.2663, 622.2645, 659.2663, 622.2645, 659.2663, 493.8917, 587.3395, 523.26, 440.0075, Rest(0.25), 261.63, 329.6331, 440.0075, 493.8917, Rest(0.25), 329.6331, 523.26, 493.8917, 440.0075, Rest(0.25), 493.8917, 523.26, 587.3395, 659.2663, 392.0021, 698.4683, 659.2663, 587.3395, 349.2342, 659.2663, 587.3395, 523.26, 329.6331, 587.3395, 523.26, 493.8917, Rest(0.25), 329.6331, 659.2663, Rest(0.5), 659.2663, 1318.5326, Rest(0.5), 622.2645, 659.2663, Rest(0.25), 622.2645, 659.2663, 622.2645, 659.2663, 622.2645, 659.2663, 493.8917, 587.3395, 523.26, 440.0075, Rest(0.25), 261.63, 329.6331, 440.0075, 493.8917, Rest(0.25), 329.6331, 415.3117, 493.8917, 523.26, Rest(0.25), 329.6331, 659.2663, 622.2645, 659.2663, 622.2645, 659.2663, 493.8917, 587.3395, 523.26, 440.0075, Rest(0.25), 261.63, 329.6331, 440.0075, 493.8917, Rest(0.25), 329.6331, 523.26, 493.8917, 440.0075], 1),\n",
      "\t\t\\dur, Pseq( [0.25, 0.25, 0.25, 0.25, 0.25, 0.25, 0.25, 0.25, 0.5, 0.25, 0.25, 0.25, 0.25, 0.5, 0.25, 0.25, 0.25, 0.25, 0.5, 0.25, 0.25, 0.25, 0.25, 0.25, 0.25, 0.25, 0.25, 0.25, 0.25, 0.5, 0.25, 0.25, 0.25, 0.25, 0.5, 0.25, 0.25, 0.25, 0.25, 1.0, 0.25, 0.25, 0.25, 0.25, 0.25, 0.25, 0.25, 0.25, 0.5, 0.25, 0.25, 0.25, 0.25, 0.5, 0.25, 0.25, 0.25, 0.25, 0.5, 0.25, 0.25, 0.25, 0.25, 0.25, 0.25, 0.25, 0.25, 0.25, 0.25, 0.5, 0.25, 0.25, 0.25, 0.25, 0.5, 0.25, 0.25, 0.25, 0.25, 0.5, 0.25, 0.25, 0.25, 0.25, 0.75, 0.25, 0.25, 0.25, 0.75, 0.25, 0.25, 0.25, 0.75, 0.25, 0.25, 0.25, 0.5, 0.25, 0.25, 0.25, 0.5, 0.25, 0.25, 0.5, 0.25, 0.5, 0.25, 0.25, 0.25, 0.25, 0.25, 0.25, 0.25, 0.25, 0.25, 0.25, 0.5, 0.25, 0.25, 0.25, 0.25, 0.5, 0.25, 0.25, 0.25, 0.25, 0.5, 0.25, 0.25, 0.25, 0.25, 0.25, 0.25, 0.25, 0.25, 0.25, 0.25, 0.5, 0.25, 0.25, 0.25, 0.25, 0.5, 0.25, 0.25, 0.25, 0.25, 0.5, 0.25, 0.25, 0.25, 0.25, 0.75, 0.25, 0.25, 0.25, 0.75, 0.25, 0.25, 0.25, 0.75, 0.25, 0.25, 0.25, 0.5, 0.25, 0.25, 0.25, 0.5, 0.25, 0.25, 0.5, 0.25, 0.5, 0.25, 0.25, 0.25, 0.25, 0.25, 0.25, 0.25, 0.25, 0.25, 0.25, 0.5, 0.25, 0.25, 0.25, 0.25, 0.5, 0.25, 0.25, 0.25, 0.25, 0.5, 0.25, 0.25, 0.25, 0.25, 0.25, 0.25, 0.25, 0.25, 0.25, 0.25, 0.5, 0.25, 0.25, 0.25, 0.25, 0.5, 0.25, 0.25, 0.25, 0.25, 0.5, 0.25, 0.25, 0.25, 0.25, 0.0625, 0.0625, 0.875, 0.375, 0.125, 0.5, 0.5, 0.375, 0.125, 0.25, 0.25, 0.25, 0.25, 0.25, 0.25, 0.5, 0.5, 0.0625, 0.0625, 0.125, 0.125, 0.125, 1.0, 0.25, 0.25, 0.75, 0.25, 0.25, 0.25, 1.0, 0.375, 0.125, 0.125, 0.125, 0.125, 0.125, 0.125, 0.125, 0.125, 0.125, 0.125, 0.125, 0.125, 0.125, 0.125, 0.125, 0.125, 0.125, 0.125, 0.125, 0.125, 0.125, 0.125, 0.125, 0.125, 0.125, 0.125, 0.125, 0.125, 0.125, 0.125, 0.125, 0.125, 0.125, 0.125, 0.125, 0.125, 0.125, 0.125, 0.125, 0.125, 0.125, 0.125, 0.125, 0.125, 0.125, 0.125, 0.125, 0.125, 0.125, 0.125, 0.125, 0.125, 0.125, 0.125, 0.125, 0.125, 0.125, 0.125, 0.125, 0.125, 0.125, 0.75, 0.25, 0.25, 0.25, 0.75, 0.25, 0.25, 0.25, 0.25, 0.25, 0.25, 0.25, 0.25, 0.25, 0.25, 0.25, 0.25, 0.25, 0.25, 0.25, 0.5, 0.25, 0.25, 0.25, 0.25, 0.5, 0.25, 0.25, 0.25, 0.25, 0.5, 0.25, 0.25, 0.25, 0.25, 0.25, 0.25, 0.25, 0.25, 0.25, 0.25, 0.5, 0.25, 0.25, 0.25, 0.25, 0.5, 0.25, 0.25, 0.25, 0.25, 0.5, 0.25, 0.25, 0.25, 0.25, 0.75, 0.25, 0.25, 0.25, 0.75, 0.25, 0.25, 0.25, 0.75, 0.25, 0.25, 0.25, 0.5, 0.25, 0.25, 0.25, 0.5, 0.25, 0.25, 0.5, 0.25, 0.5, 0.25, 0.25, 0.25, 0.25, 0.25, 0.25, 0.25, 0.25, 0.25, 0.25, 0.5, 0.25, 0.25, 0.25, 0.25, 0.5, 0.25, 0.25, 0.25, 0.25, 0.5, 0.25, 0.25, 0.25, 0.25, 0.25, 0.25, 0.25, 0.25, 0.25, 0.25, 0.5, 0.25, 0.25, 0.25, 0.25, 0.5, 0.25, 0.25, 0.25, 0.25, 0.5, 1.0, 1.5, 1.0, 0.25, 0.25, 1.0, 0.5, 1.5, 1.0, 0.25, 0.25, 1.0, 0.5, 0.5, 0.5, 0.5, 1.5, 1.5, 1.0, 0.25, 0.25, 1.0, 0.5, 1.5, 1.0, 0.25, 0.25, 1.0, 0.5, 1.0, 0.5, 1.0, 0.5, 0.5, 1.0, 0.16667, 0.16667, 0.16667, 0.16667, 0.16667, 0.16667, 0.16667, 0.16667, 0.16667, 0.16667, 0.16667, 0.16667, 0.16667, 0.16667, 0.16667, 0.16667, 0.16667, 0.16667, 0.16667, 0.16667, 0.16667, 0.16667, 0.16667, 0.16667, 0.16667, 0.16667, 0.16667, 0.16667, 0.16667, 0.16667, 0.16667, 0.16667, 0.16667, 0.16667, 0.16667, 0.16667, 0.16667, 0.16667, 0.16667, 0.16667, 0.16667, 0.16667, 0.16667, 0.16667, 0.16667, 0.25, 0.25, 0.25, 0.25, 0.25, 0.25, 0.5, 0.25, 0.25, 0.25, 0.25, 0.5, 0.25, 0.25, 0.25, 0.25, 0.5, 0.25, 0.25, 0.25, 0.25, 0.25, 0.25, 0.25, 0.25, 0.25, 0.25, 0.5, 0.25, 0.25, 0.25, 0.25, 0.5, 0.25, 0.25, 0.25, 0.25, 0.5, 0.25, 0.25, 0.25, 0.25, 0.75, 0.25, 0.25, 0.25, 0.75, 0.25, 0.25, 0.25, 0.75, 0.25, 0.25, 0.25, 0.5, 0.25, 0.25, 0.25, 0.5, 0.25, 0.25, 0.5, 0.25, 0.5, 0.25, 0.25, 0.25, 0.25, 0.25, 0.25, 0.25, 0.25, 0.25, 0.25, 0.5, 0.25, 0.25, 0.25, 0.25, 0.5, 0.25, 0.25, 0.25, 0.25, 0.5, 0.25, 0.25, 0.25, 0.25, 0.25, 0.25, 0.25, 0.25, 0.25, 0.25, 0.5, 0.25, 0.25, 0.25, 0.25, 0.5, 0.25, 0.25, 0.25, 0.25, 1.0], 1),\n",
      "\t\t\\amp, 0.2\n",
      "\t).play;\n",
      "\n",
      "\ts.record(duration: 188.0);\n",
      ")\n",
      "\n"
     ]
    }
   ],
   "source": [
    "# define the SuperCollider template for a simple piano layout with inputs for frequencies, durations, amplitudes, and recording.\n",
    "supercollider_template = \"\"\"\n",
    "(\n",
    "\tvar piano_left, piano_right;\n",
    "\n",
    "\tpiano_left = Pbind(\n",
    "\t\t\\\\freq, Pseq( {left[0]}, 1),\n",
    "\t\t\\\\dur, Pseq( {left[1]}, 1),\n",
    "\t\t\\\\amp, {left_amp}\n",
    "\t).play;\n",
    "\n",
    "\tpiano_right = Pbind(\n",
    "\t\t\\\\freq, Pseq( {right[0]}, 1),\n",
    "\t\t\\\\dur, Pseq( {right[1]}, 1),\n",
    "\t\t\\\\amp, {right_amp}\n",
    "\t).play;\n",
    "\n",
    "\t{record}\n",
    ")\n",
    "\"\"\"\n",
    "\n",
    "# print the SuperCollider code and copy and paste into SuperCollider.\n",
    "# Open SuperCollider, paste the code, click on \"Server\" > \"Boot Server\", Select or click in code, press Cmd+Enter (Mac) or ctrl+Enter (Windows).\n",
    "# If a recording is created, the file path will be given in the \"Post Window\" (i.e., likely the bottom-right window in the SuperCollider IDE).\n",
    "t = sum([float(note_group) for note_group in left_hand_transformed[1]])\n",
    "print(supercollider_template.format(\n",
    "    left = left_hand_transformed, \n",
    "    right = right_hand_transformed,\n",
    "    left_amp = 0.4,\n",
    "    right_amp = 0.2,\n",
    "    record = f\"s.record(duration: {t - t % 1 + 1});\"\n",
    ").replace(\"'\", \"\"))"
   ]
  },
  {
   "attachments": {},
   "cell_type": "markdown",
   "metadata": {},
   "source": [
    "The ultimate goal of this project is to jazz up a song like \"Für Elise\" by changing how long certain notes last. Normally, if two notes are the same length, they'd each take one beat. But with this jazz modification, one note might take up 4/3 of a beat while the other takes up 2/3 of a beat. This creates a swing feeling, like \"dooo da,\" giving the music a more lively and rhythmic groove. Note that the base factors, `l` and `s`, can technically take on any value to create varying intensities and directions of the swing, although it is ideal to ensure they add up to 2 to avoid unwanted influence on the tempo of the song.\n",
    "\n",
    "Audio samples are included in this repository showing the following factor combinations (the modified songs are generated in a faster tempo to make the music more lively):\n",
    "- Original (same as 1:1 but with original tempo)\n",
    "- 1:1\n",
    "- 2:1\n",
    "- 1:2\n",
    "- 4:1\n",
    "- 1:4"
   ]
  },
  {
   "cell_type": "code",
   "execution_count": 272,
   "metadata": {},
   "outputs": [
    {
     "data": {
      "text/plain": [
       "2.0"
      ]
     },
     "execution_count": 272,
     "metadata": {},
     "output_type": "execute_result"
    }
   ],
   "source": [
    "# base factors for temporal modification add up to 2 to account for temporal distribution between two equally long notes.\n",
    "# the 2:1 ratio creates a distribution similar to Jazz swing, i.e. dooo da.\n",
    "l, s = 2 * 2/3, 2 * 1/3 # long, short\n",
    "l + s"
   ]
  },
  {
   "cell_type": "code",
   "execution_count": 273,
   "metadata": {},
   "outputs": [
    {
     "name": "stdout",
     "output_type": "stream",
     "text": [
      "right hand stats:\n",
      "length: 618\n",
      "head=1: ['4', '3']\n",
      "beats: 750.001429999999\n",
      "\n",
      "left hand stats:\n",
      "length: 459\n",
      "head=1: ['z', '9']\n",
      "beats: 750.0\n"
     ]
    }
   ],
   "source": [
    "## RIGHT HAND ##\n",
    "\n",
    "# special correction factors for irregular measures\n",
    "# adjustment for measures in sequence b\n",
    "g = (6 - sum([1*s, 1*l, 1*s])) / 3\n",
    "# adjustment for measures in sequence c\n",
    "gg = 3 / (2*l + s)\n",
    "# adjustment for measures in sequence d\n",
    "ggg = 3 / (l + 2*s)\n",
    "\n",
    "# the vector of multiplicative factors to modify temporal measures of original fur elise song for the right hand\n",
    "right_hand_swing_measure = [\n",
    "    # sequence a (1)\n",
    "    1*l, 1*s, 1*l, 1*s, 1*l, 1*s, 1*l, 1*s, 1, 1*l, 1*s, 1*l, 1*s, 1, 1*l, 1*s, 1*l, 1*s, 1, 1*l, 1*s, 1*l, 1*s, 1*l, 1*s, 1*l, 1*s, 1*l, 1*s, 1, 1*l, 1*s, 1*l, 1*s, 1, 1*l, 1*s, 1*l, 1*s, 1,\n",
    "    # sequence a (2)\n",
    "    1*l, 1*s, 1*l, 1*s, 1*l, 1*s, 1*l, 1*s, 1, 1*l, 1*s, 1*l, 1*s, 1, 1*l, 1*s, 1*l, 1*s, 1, 1*l, 1*s, 1*l, 1*s, 1*l, 1*s, 1*l, 1*s, 1*l, 1*s, 1, 1*l, 1*s, 1*l, 1*s, 1, 1*l, 1*s, 1*l, 1*s, 1, 1*l, 1*s, 1*l, 1*s, \n",
    "    # sequence b (1)\n",
    "    1*g, 1*s, 1*l, 1*s, 1*g, 1*s, 1*l, 1*s, 1*g, 1*s, 1*l, 1*s, 1, 1*l, 1*s, 1*l, 1, 1*s, 1*l, 1, 1*s, 1, 1*l, 1*s, 1*l, 1*s, 1*l, 1*s, 1*l, 1*s, 1*l, 1*s, 1, 1*l, 1*s, 1*l, 1*s, 1, 1*l, 1*s, 1*l, 1*s, 1, 1*l, 1*s, 1*l, 1*s, 1*l, 1*s, 1*l, 1*s, 1*l, 1*s, 1, 1*l, 1*s, 1*l, 1*s, 1, 1*l, 1*s, 1*l, 1*s, 1, 1*l, 1*s, 1*l, 1*s,\n",
    "    # sequence b (2)\n",
    "    1*g, 1*s, 1*l, 1*s, 1*g, 1*s, 1*l, 1*s, 1*g, 1*s, 1*l, 1*s, 1, 1*l, 1*s, 1*l, 1, 1*s, 1*l, 1, 1*s, 1, 1*l, 1*s, 1*l, 1*s, 1*l, 1*s, 1*l, 1*s, 1*l, 1*s, 1, 1*l, 1*s, 1*l, 1*s, 1, 1*l, 1*s, 1*l, 1*s, 1, 1*l, 1*s, 1*l, 1*s, 1*l, 1*s, 1*l, 1*s, 1*l, 1*s, 1, 1*l, 1*s, 1*l, 1*s, 1, 1*l, 1*s, 1*l, 1*s, 1, 1*l, 1*s, 1*l, 1*s,\n",
    "    # sequence c (part 1)\n",
    "    1, 1, 1, 1, 1, 1, 1, 1, 1, 1*l, 1*s, 1*l, 1*s, 1*l, 1*s, 1, 1, 1, 1, 1*l*gg, 1*s*gg, 1*l*gg, 1, 1*l, 1*s, 1*g, 1*s, 1*l, 1*s, 1, 1, 1, \n",
    "    # sequence c (part 2)\n",
    "    1*l, 1*s, 1*l, 1*s, 1*l, 1*s, 1*l, 1*s, 1*l, 1*s, 1*l, 1*s, 1*l, 1*s, 1*l, 1*s, 1*l, 1*s, 1*l, 1*s, 1*l, 1*s, 1*l, 1*s, 1*l, 1*s, 1*l, 1*s, 1*l, 1*s, 1*l, 1*s, 1*l, 1*s, 1*l, 1*s, 1*l, 1*s, 1*l, 1*s, 1*l, 1*s, 1*l, 1*s, 1*l, 1*s, 1*l, 1*s, 1*l, 1*s, 1*l, 1*s, 1*l, 1*s, 1*l, 1*s, 1*l, 1*s, 1*l, 1*s, 1*g, 1*s, 1*l, 1*s, 1*g, 1*s, 1*l, 1*s, 1*l, 1*s, 1*l, 1*s, \n",
    "    # sequence a (3)\n",
    "    1*l, 1*s, 1*l, 1*s, 1*l, 1*s, 1*l, 1*s, 1, 1*l, 1*s, 1*l, 1*s, 1, 1*l, 1*s, 1*l, 1*s, 1, 1*l, 1*s, 1*l, 1*s, 1*l, 1*s, 1*l, 1*s, 1*l, 1*s, 1, 1*l, 1*s, 1*l, 1*s, 1, 1*l, 1*s, 1*l, 1*s, 1, 1*l, 1*s, 1*l, 1*s, \n",
    "    # sequence b (3)\n",
    "    1*g, 1*s, 1*l, 1*s, 1*g, 1*s, 1*l, 1*s, 1*g, 1*s, 1*l, 1*s, 1, 1*l, 1*s, 1*l, 1, 1*s, 1*l, 1, 1*s, 1, 1*l, 1*s, 1*l, 1*s, 1*l, 1*s, 1*l, 1*s, 1*l, 1*s, 1, 1*l, 1*s, 1*l, 1*s, 1, 1*l, 1*s, 1*l, 1*s, 1, 1*l, 1*s, 1*l, 1*s, 1*l, 1*s, 1*l, 1*s, 1*l, 1*s, 1, 1*l, 1*s, 1*l, 1*s, 1, 1*l, 1*s, 1*l, 1*s,\n",
    "    # sequence d (part 1)\n",
    "    1, 1, 1, 1, 1*l, 1*s, 1, 1, 1, 1, 1*l, 1*s, 1, 1, 1, 1, 1, 1, 1, 1, 1*l, 1*s, 1, 1, 1, 1, 1*l, 1*s, 1, 1, 1, 1, 1, 1, 1, 1, \n",
    "    # sequence d (part 2)\n",
    "    1*l*gg, 1*s*gg, 1*l*gg, 1*s*ggg, 1*l*ggg, 1*s*ggg, 1*l*gg, 1*s*gg, 1*l*gg, 1*s*ggg, 1*l*ggg, 1*s*ggg, 1*l*gg, 1*s*gg, 1*l*gg, 1*s*ggg, 1*l*ggg, 1*s*ggg, 1*l*gg, 1*s*gg, 1*l*gg, 1*s*ggg, 1*l*ggg, 1*s*ggg, 1*l*gg, 1*s*gg, 1*l*gg, 1*s*ggg, 1*l*ggg, 1*s*ggg, 1*l*gg, 1*s*gg, 1*l*gg, 1*s*ggg, 1*l*ggg, 1*s*ggg, 1*l*gg, 1*s*gg, 1*l*gg, 1*s*ggg, 1*l*ggg, 1*s*ggg, 1*l*gg, 1*s*gg, 1*l*gg, \n",
    "    # sequence a (4)\n",
    "    1*l, 1*s, 1*l, 1*s, 1*l, 1*s, 1, 1*l, 1*s, 1*l, 1*s, 1, 1*l, 1*s, 1*l, 1*s, 1, 1*l, 1*s, 1*l, 1*s, 1*l, 1*s, 1*l, 1*s, 1*l, 1*s, 1, 1*l, 1*s, 1*l, 1*s, 1, 1*l, 1*s, 1*l, 1*s, 1, 1*l, 1*s, 1*l, 1*s, \n",
    "    # sequence b (4)\n",
    "    1*g, 1*s, 1*l, 1*s, 1*g, 1*s, 1*l, 1*s, 1*g, 1*s, 1*l, 1*s, 1, 1*l, 1*s, 1*l, 1, 1*s, 1*l, 1, 1*s, 1, 1*l, 1*s, 1*l, 1*s, 1*l, 1*s, 1*l, 1*s, 1*l, 1*s, 1, 1*l, 1*s, 1*l, 1*s, 1, 1*l, 1*s, 1*l, 1*s, 1, 1*l, 1*s, 1*l, 1*s, 1*l, 1*s, 1*l, 1*s, 1*l, 1*s, 1, 1*l, 1*s, 1*l, 1*s, 1, 1*l, 1*s, 1*l, 1*s, 1\n",
    "]\n",
    "\n",
    "## LEFT HAND ##\n",
    "\n",
    "# special correction factors for irregular measures\n",
    "# adjustment for measures in sequence a\n",
    "f = (6 - sum([1*l, 1*s, 1*l])) / 3\n",
    "ff = (12 - sum([1*l, 1*s, 1*l])) / 9\n",
    "\n",
    "# the vector of multiplicative factors to modify temporal measures of original fur elise song for the left hand\n",
    "left_hand_swing_measure = [\n",
    "    # sequence a (1)\n",
    "    1, 1*l, 1*s, 1*l, 1*f, 1*l, 1*s, 1*l, 1*f, 1*l, 1*s, 1*l, 1*ff, 1*l, 1*s, 1*l, 1*f, 1*l, 1*s, 1*l, 1*f, 1*l, 1*s, 1*l, 1*ff,\n",
    "    # sequence a (2)\n",
    "    1*l, 1*s, 1*l, 1*f, 1*l, 1*s, 1*l, 1*f, 1*l, 1*s, 1*l, 1*ff, 1*l, 1*s, 1*l, 1*f, 1*l, 1*s, 1*l, 1*f, 1*l, 1*s, 1*l, 1*f,\n",
    "    # sequence b (1)\n",
    "    1*l, 1*s, 1*l, 1*f, 1*l, 1*s, 1*l, 1*f, 1*l, 1*s, 1*l, 1*f, 1*l, 1*s, 1*l, 1, 1*s, 1*l, 1, 1*s, 1*l, 1, 1*s, 1*l, 1*ff, 1*l, 1*s, 1*l, 1*f, 1*l, 1*s, 1*l, 1*f, 1*l, 1*s, 1*l, 1*ff, 1*l, 1*s, 1*l, 1*f, 1*l, 1*s, 1*l, 1*f, 1*l, 1*s, 1*l, 1*f, \n",
    "    # sequence b (2)\n",
    "    1*l, 1*s, 1*l, 1*f, 1*l, 1*s, 1*l, 1*f, 1*l, 1*s, 1*l, 1*f, 1*l, 1*s, 1*l, 1, 1*s, 1*l, 1, 1*s, 1*l, 1, 1*s, 1*l, 1*ff, 1*l, 1*s, 1*l, 1*f, 1*l, 1*s, 1*l, 1*f, 1*l, 1*s, 1*l, 1*ff, 1*l, 1*s, 1*l, 1*f, 1*l, 1*s, 1*l, 1*f, 1*l, 1*s, 1*l, 1*s, 1*l, 1*s, \n",
    "    # sequence c (part 1)\n",
    "    1*l, 1*s, 1*l, 1*s, 1*l, 1*s, 1*l, 1*s, 1*l, 1*s, 1*l, 1*s, 1*l, 1*s, 1*l, 1*s, 1*l, 1*s, 1*l, 1*s, 1*l, 1*s, 1*l, 1*s, 1*l, 1*s, 1*l, 1*s, 1*l, 1*s, 1*l, 1*s, 1*l, 1*s, 1*l, 1*s, 1*l, 1*s, 1*l, 1*s, 1*l, 1*s, \n",
    "    # sequence c (part 2)\n",
    "    1, 1*l, 1*s, 1*l, 1*s, 1, 1, 1, 1, 1*l, 1*s, 1*l, 1*s, 1, 1, 1, 1, 1, \n",
    "    # sequence a (3)\n",
    "    1*l, 1*s, 1*l, 1*f, 1*l, 1*s, 1*l, 1*f, 1*l, 1*s, 1*l, 1*ff, 1*l, 1*s, 1*l, 1*f, 1*l, 1*s, 1*l, 1*f, 1*l, 1*s, 1*l, 1*f,\n",
    "    # sequence b (3)\n",
    "    1*l, 1*s, 1*l, 1*f, 1*l, 1*s, 1*l, 1*f, 1*l, 1*s, 1*l, 1*f, 1*l, 1*s, 1*l, 1, 1*s, 1*l, 1, 1*s, 1*l, 1, 1*s, 1*l, 1*ff, 1*l, 1*s, 1*l, 1*f, 1*l, 1*s, 1*l, 1*f, 1*l, 1*s, 1*l, 1*ff, 1*l, 1*s, 1*l, 1*f, 1*l, 1*s, 1*l, 1*f, \n",
    "    # sequence d (part 1)\n",
    "    1*l, 1*s, 1*l, 1*s, 1*l, 1*s, 1*l, 1*s, 1*l, 1*s, 1*l, 1*s, 1*l, 1*s, 1*l, 1*s, 1*l, 1*s, 1*l, 1*s, 1*l, 1*s, 1*l, 1*s, 1*l, 1*s, 1*l, 1*s, 1*l, 1*s, 1*l, 1*s, 1*l, 1*s, 1*l, 1*s, 1*l, 1*s, 1*l, 1*s, 1*l, 1*s, 1*l, 1*s, 1*l, 1*s, 1*l, 1*s, 1*l, 1*s, 1*l, 1*s, 1*l, 1*s, 1*l, 1*s, 1*l, 1*s, 1*l, 1*s, 1*l, 1*s, 1*l, 1*s, 1*l, 1*s, 1*l, 1*s, 1*l, 1*s, 1*l, 1*s, 1*l, 1*s, 1*l, 1*s, 1*l, 1*s, 1*l, 1*s, 1*l, 1*s, 1*l, 1*s, 1*l, 1*s, 1*l, 1*s, 1*l, 1*s, 1*l, 1*s, 1*l, 1*s, 1*l, 1*s, 1, 1, 1, 1, \n",
    "    # sequence d (part 2)\n",
    "    1, 1, 1, 1, 1, 1, 1, 1, 1, 1, 1, \n",
    "    # sequence a (4)\n",
    "    1*l, 1*s, 1*l, 1*f, 1*l, 1*s, 1*l, 1*f, 1*l, 1*s, 1*l, 1*ff, 1*l, 1*s, 1*l, 1*f, 1*l, 1*s, 1*l, 1*f, 1*l, 1*s, 1*l, 1*f,\n",
    "    # sequence b (4)\n",
    "    1*l, 1*s, 1*l, 1*f, 1*l, 1*s, 1*l, 1*f, 1*l, 1*s, 1*l, 1*f, 1*l, 1*s, 1*l, 1, 1*s, 1*l, 1, 1*s, 1*l, 1, 1*s, 1*l, 1*ff, 1*l, 1*s, 1*l, 1*f, 1*l, 1*s, 1*l, 1*f, 1*l, 1*s, 1*l, 1*ff, 1*l, 1*s, 1*l, 1*f, 1*l, 1*s, 1*l, 1*f, 1\n",
    "]\n",
    "\n",
    "## COMPUTATIONS ##\n",
    "\n",
    "# initialize the lists for right and left hands to store music data with modified temporal measures.\n",
    "right_hand_converted_swing = []\n",
    "left_hand_converted_swing = []\n",
    "\n",
    "# loop through processed music data with original temporal measures and multiply by factors.\n",
    "for notes_group, swing_measure in zip(right_hand_converted, right_hand_swing_measure):\n",
    "    right_hand_converted_swing.append(\n",
    "        (notes_group[0], notes_group[1], round(notes_group[2] * swing_measure, 5))\n",
    "    )\n",
    "for notes_group, swing_measure in zip(left_hand_converted, left_hand_swing_measure):\n",
    "    left_hand_converted_swing.append(\n",
    "        (notes_group[0], notes_group[1], round(notes_group[2] * swing_measure, 5))\n",
    "    )\n",
    "    \n",
    "print(\"right hand stats:\")\n",
    "print(\"length:\", len(right_hand_converted_swing))\n",
    "print(\"head=1:\", [right_hand_converted_swing[i][0] for i in range(2)])\n",
    "print(\"beats:\", sum([float(n[2]) for n in right_hand_converted_swing]))\n",
    "print()\n",
    "\n",
    "print(\"left hand stats:\")\n",
    "print(\"length:\", len(left_hand_converted_swing))\n",
    "print(\"head=1:\", [left_hand_converted_swing[i][0] for i in range(2)])\n",
    "print(\"beats:\", sum([float(n[2]) for n in left_hand_converted_swing]))"
   ]
  },
  {
   "cell_type": "code",
   "execution_count": 274,
   "metadata": {},
   "outputs": [
    {
     "name": "stdout",
     "output_type": "stream",
     "text": [
      "right hand stats:\n",
      "length: 2\n",
      "head=1: ['659.2663', '0.28985']\n",
      "duration: 163.04320000000016\n",
      "\n",
      "left hand stats:\n",
      "length: 2\n",
      "head=1: ['Rest(1.73913)', '1.73913']\n",
      "duration: 163.04273000000035\n"
     ]
    }
   ],
   "source": [
    "# transform right and left hand to new temporal measures.\n",
    "right_hand_transformed_swing = transform2freq(right_hand_converted_swing, tempo = 240 * 1.15)\n",
    "left_hand_transformed_swing = transform2freq(left_hand_converted_swing, tempo = 240 * 1.15)\n",
    "\n",
    "print(\"right hand stats:\")\n",
    "print(\"length:\", len(right_hand_transformed_swing))\n",
    "print(\"head=1:\", [right_hand_transformed_swing[i][0] for i in range(2)])\n",
    "print(\"duration:\", sum([float(note_group) for note_group in right_hand_transformed_swing[1]]))\n",
    "print()\n",
    "\n",
    "print(\"left hand stats:\")\n",
    "print(\"length:\", len(left_hand_transformed_swing))\n",
    "print(\"head=1:\", [left_hand_transformed_swing[i][0] for i in range(2)])\n",
    "print(\"duration:\", sum([float(note_group) for note_group in left_hand_transformed_swing[1]]))"
   ]
  },
  {
   "cell_type": "code",
   "execution_count": 275,
   "metadata": {},
   "outputs": [
    {
     "name": "stdout",
     "output_type": "stream",
     "text": [
      "\n",
      "(\n",
      "\tvar piano_left, piano_right;\n",
      "\n",
      "\tpiano_left = Pbind(\n",
      "\t\t\\freq, Pseq( [Rest(1.73913), 110.0019, 164.8166, 220.0037, Rest(0.57971), 82.4083, 164.8166, 207.6559, Rest(0.57971), 110.0019, 164.8166, 220.0037, Rest(1.88406), 110.0019, 164.8166, 220.0037, Rest(0.57971), 82.4083, 164.8166, 207.6559, Rest(0.57971), 110.0019, 164.8166, 220.0037, Rest(1.88406), 110.0019, 164.8166, 220.0037, Rest(0.57971), 82.4083, 164.8166, 207.6559, Rest(0.57971), 110.0019, 164.8166, 220.0037, Rest(1.88406), 110.0019, 164.8166, 220.0037, Rest(0.57971), 82.4083, 164.8166, 207.6559, Rest(0.57971), 110.0019, 164.8166, 220.0037, Rest(0.57971), 130.815, 164.8166, 261.63, Rest(0.57971), 98.0005, 196.001, 246.9458, Rest(0.57971), 110.0019, 164.8166, 220.0037, Rest(0.57971), 82.4083, 164.8166, 329.6331, Rest(0.43478), 329.6331, 659.2663, Rest(0.43478), 622.2645, 659.2663, Rest(0.43478), 622.2645, 659.2663, Rest(1.88406), 110.0019, 164.8166, 220.0037, Rest(0.57971), 82.4083, 164.8166, 207.6559, Rest(0.57971), 110.0019, 164.8166, 220.0037, Rest(1.88406), 110.0019, 164.8166, 220.0037, Rest(0.57971), 82.4083, 164.8166, 207.6559, Rest(0.57971), 110.0019, 164.8166, 220.0037, Rest(0.57971), 130.815, 164.8166, 261.63, Rest(0.57971), 98.0005, 196.001, 246.9458, Rest(0.57971), 110.0019, 164.8166, 220.0037, Rest(0.57971), 82.4083, 164.8166, 329.6331, Rest(0.43478), 329.6331, 659.2663, Rest(0.43478), 622.2645, 659.2663, Rest(0.43478), 622.2645, 659.2663, Rest(1.88406), 110.0019, 164.8166, 220.0037, Rest(0.57971), 82.4083, 164.8166, 207.6559, Rest(0.57971), 110.0019, 164.8166, 220.0037, Rest(1.88406), 110.0019, 164.8166, 220.0037, Rest(0.57971), 82.4083, 164.8166, 207.6559, Rest(0.57971), 110.0019, 164.8166, 220.0037, [233.0858, 261.63], [220.0037, 261.63], [196.001, 246.9458, 261.63], 174.6171, 220.0037, 261.63, 220.0037, 261.63, 220.0037, 174.6171, 233.0858, 293.6697, 246.9458, 293.6697, 246.9458, 174.6171, 329.6331, [174.6171, 196.001, 233.0858], 329.6331, [174.6171, 196.001, 246.9458], 329.6331, 174.6171, 220.0037, 261.63, 220.0037, 261.63, 220.0037, 174.6171, 220.0037, 261.63, 220.0037, 261.63, 220.0037, 164.8166, 220.0037, 261.63, 220.0037, [146.8349, 293.6697], 174.6171, 196.001, 329.6331, 196.001, 349.2342, 196.001, 349.2342, [261.63, 329.6331], Rest(0.28985), [349.2342, 392.0021], [329.6331, 392.0021], [293.6697, 349.2342, 392.0021], [261.63, 329.6331, 392.0021], [174.6171, 220.0037], [174.6171, 220.0037], 261.63, Rest(0.28985), [349.2342, 392.0021], [329.6331, 392.0021], [293.6697, 349.2342, 392.0021], [261.63, 329.6331, 392.0021], [174.6171, 220.0037], [196.001, 246.9458], [207.6559, 246.9458], Rest(6.08696), 110.0019, 164.8166, 220.0037, Rest(0.57971), 82.4083, 164.8166, 207.6559, Rest(0.57971), 110.0019, 164.8166, 220.0037, Rest(1.88406), 110.0019, 164.8166, 220.0037, Rest(0.57971), 82.4083, 164.8166, 207.6559, Rest(0.57971), 110.0019, 164.8166, 220.0037, Rest(0.57971), 130.815, 164.8166, 261.63, Rest(0.57971), 98.0005, 196.001, 246.9458, Rest(0.57971), 110.0019, 164.8166, 220.0037, Rest(0.57971), 82.4083, 164.8166, 329.6331, Rest(0.43478), 329.6331, 659.2663, Rest(0.43478), 622.2645, 659.2663, Rest(0.43478), 622.2645, 659.2663, Rest(1.88406), 110.0019, 164.8166, 220.0037, Rest(0.57971), 82.4083, 164.8166, 207.6559, Rest(0.57971), 110.0019, 164.8166, 220.0037, Rest(1.88406), 110.0019, 164.8166, 220.0037, Rest(0.57971), 82.4083, 164.8166, 207.6559, Rest(0.57971), 110.0019, 110.0019, 110.0019, 110.0019, 110.0019, 110.0019, 110.0019, 110.0019, 110.0019, 110.0019, 110.0019, 110.0019, 110.0019, 110.0019, 110.0019, 110.0019, 110.0019, 110.0019, 110.0019, 110.0019, 110.0019, 110.0019, 110.0019, 110.0019, 110.0019, 110.0019, 110.0019, 110.0019, 110.0019, 110.0019, [73.4174, 110.0019], [73.4174, 110.0019], [73.4174, 110.0019], [73.4174, 110.0019], [73.4174, 110.0019], [73.4174, 110.0019], [77.7831, 110.0019], [73.4174, 110.0019], [73.4174, 110.0019], [73.4174, 110.0019], [73.4174, 110.0019], [73.4174, 110.0019], [82.4083, 110.0019], [82.4083, 110.0019], [82.4083, 110.0019], [82.4083, 110.0019], [82.4083, 103.8279], [82.4083, 98.0005], [55.0009, 110.0019], 110.0019, 110.0019, 110.0019, 110.0019, 110.0019, 110.0019, 110.0019, 110.0019, 110.0019, 110.0019, 110.0019, 110.0019, 110.0019, 110.0019, 110.0019, 110.0019, 110.0019, 110.0019, 110.0019, 110.0019, 110.0019, 110.0019, 110.0019, 116.5429, 123.4729, 123.4729, 123.4729, 123.4729, 123.4729, 116.5429, 123.4729, 123.4729, 123.4729, 123.4729, 123.4729, 116.5429, 123.4729, 123.4729, 123.4729, 123.4729, 123.4729, 123.4729, 123.4729, 123.4729, 123.4729, 123.4729, 123.4729, 130.815, Rest(0.86957), [164.8166, 207.6559], Rest(0.86957), 55.0009, Rest(0.43478), [220.0037, 261.63, 329.6331], [220.0037, 261.63, 329.6331], Rest(0.43478), [220.0037, 261.63, 329.6331], [220.0037, 261.63, 329.6331], Rest(0.43478), [220.0037, 261.63, 329.6331], [220.0037, 261.63, 329.6331], Rest(3.47826), 110.0019, 164.8166, 220.0037, Rest(0.57971), 82.4083, 164.8166, 207.6559, Rest(0.57971), 110.0019, 164.8166, 220.0037, Rest(1.88406), 110.0019, 164.8166, 220.0037, Rest(0.57971), 82.4083, 164.8166, 207.6559, Rest(0.57971), 110.0019, 164.8166, 220.0037, Rest(0.57971), 130.815, 164.8166, 261.63, Rest(0.57971), 98.0005, 196.001, 246.9458, Rest(0.57971), 110.0019, 164.8166, 220.0037, Rest(0.57971), 82.4083, 164.8166, 329.6331, Rest(0.43478), 329.6331, 659.2663, Rest(0.43478), 622.2645, 659.2663, Rest(0.43478), 622.2645, 659.2663, Rest(1.88406), 110.0019, 164.8166, 220.0037, Rest(0.57971), 82.4083, 164.8166, 207.6559, Rest(0.57971), 110.0019, 164.8166, 220.0037, Rest(1.88406), 110.0019, 164.8166, 220.0037, Rest(0.57971), 82.4083, 164.8166, 207.6559, Rest(0.57971), [55.0009, 110.0019]], 1),\n",
      "\t\t\\dur, Pseq( [1.73913, 0.28985, 0.14493, 0.28985, 0.57971, 0.28985, 0.14493, 0.28985, 0.57971, 0.28985, 0.14493, 0.28985, 1.88406, 0.28985, 0.14493, 0.28985, 0.57971, 0.28985, 0.14493, 0.28985, 0.57971, 0.28985, 0.14493, 0.28985, 1.88406, 0.28985, 0.14493, 0.28985, 0.57971, 0.28985, 0.14493, 0.28985, 0.57971, 0.28985, 0.14493, 0.28985, 1.88406, 0.28985, 0.14493, 0.28985, 0.57971, 0.28985, 0.14493, 0.28985, 0.57971, 0.28985, 0.14493, 0.28985, 0.57971, 0.28985, 0.14493, 0.28985, 0.57971, 0.28985, 0.14493, 0.28985, 0.57971, 0.28985, 0.14493, 0.28985, 0.57971, 0.28985, 0.14493, 0.28985, 0.43478, 0.14493, 0.28985, 0.43478, 0.14493, 0.28985, 0.43478, 0.14493, 0.28985, 1.88406, 0.28985, 0.14493, 0.28985, 0.57971, 0.28985, 0.14493, 0.28985, 0.57971, 0.28985, 0.14493, 0.28985, 1.88406, 0.28985, 0.14493, 0.28985, 0.57971, 0.28985, 0.14493, 0.28985, 0.57971, 0.28985, 0.14493, 0.28985, 0.57971, 0.28985, 0.14493, 0.28985, 0.57971, 0.28985, 0.14493, 0.28985, 0.57971, 0.28985, 0.14493, 0.28985, 0.57971, 0.28985, 0.14493, 0.28985, 0.43478, 0.14493, 0.28985, 0.43478, 0.14493, 0.28985, 0.43478, 0.14493, 0.28985, 1.88406, 0.28985, 0.14493, 0.28985, 0.57971, 0.28985, 0.14493, 0.28985, 0.57971, 0.28985, 0.14493, 0.28985, 1.88406, 0.28985, 0.14493, 0.28985, 0.57971, 0.28985, 0.14493, 0.28985, 0.57971, 0.28985, 0.14493, 0.28985, 0.14493, 0.28985, 0.14493, 0.28985, 0.14493, 0.28985, 0.14493, 0.28985, 0.14493, 0.28985, 0.14493, 0.28985, 0.14493, 0.28985, 0.14493, 0.28985, 0.14493, 0.28985, 0.14493, 0.28985, 0.14493, 0.28985, 0.14493, 0.28985, 0.14493, 0.28985, 0.14493, 0.28985, 0.14493, 0.28985, 0.14493, 0.28985, 0.14493, 0.28985, 0.14493, 0.28985, 0.14493, 0.28985, 0.14493, 0.28985, 0.14493, 0.28985, 0.14493, 0.28985, 0.14493, 0.43478, 0.28985, 0.14493, 0.28985, 0.14493, 0.43478, 0.43478, 0.43478, 0.43478, 0.28985, 0.14493, 0.28985, 0.14493, 0.43478, 0.43478, 0.43478, 0.43478, 6.08696, 0.28985, 0.14493, 0.28985, 0.57971, 0.28985, 0.14493, 0.28985, 0.57971, 0.28985, 0.14493, 0.28985, 1.88406, 0.28985, 0.14493, 0.28985, 0.57971, 0.28985, 0.14493, 0.28985, 0.57971, 0.28985, 0.14493, 0.28985, 0.57971, 0.28985, 0.14493, 0.28985, 0.57971, 0.28985, 0.14493, 0.28985, 0.57971, 0.28985, 0.14493, 0.28985, 0.57971, 0.28985, 0.14493, 0.28985, 0.43478, 0.14493, 0.28985, 0.43478, 0.14493, 0.28985, 0.43478, 0.14493, 0.28985, 1.88406, 0.28985, 0.14493, 0.28985, 0.57971, 0.28985, 0.14493, 0.28985, 0.57971, 0.28985, 0.14493, 0.28985, 1.88406, 0.28985, 0.14493, 0.28985, 0.57971, 0.28985, 0.14493, 0.28985, 0.57971, 0.28985, 0.14493, 0.28985, 0.14493, 0.28985, 0.14493, 0.28985, 0.14493, 0.28985, 0.14493, 0.28985, 0.14493, 0.28985, 0.14493, 0.28985, 0.14493, 0.28985, 0.14493, 0.28985, 0.14493, 0.28985, 0.14493, 0.28985, 0.14493, 0.28985, 0.14493, 0.28985, 0.14493, 0.28985, 0.14493, 0.28985, 0.14493, 0.28985, 0.14493, 0.28985, 0.14493, 0.28985, 0.14493, 0.28985, 0.14493, 0.28985, 0.14493, 0.28985, 0.14493, 0.28985, 0.14493, 0.28985, 0.14493, 0.28985, 0.14493, 0.28985, 0.14493, 0.28985, 0.14493, 0.28985, 0.14493, 0.28985, 0.14493, 0.28985, 0.14493, 0.28985, 0.14493, 0.28985, 0.14493, 0.28985, 0.14493, 0.28985, 0.14493, 0.28985, 0.14493, 0.28985, 0.14493, 0.28985, 0.14493, 0.28985, 0.14493, 0.28985, 0.14493, 0.28985, 0.14493, 0.28985, 0.14493, 0.28985, 0.14493, 0.28985, 0.14493, 0.28985, 0.14493, 0.28985, 0.14493, 0.28985, 0.14493, 0.28985, 0.14493, 0.28985, 0.14493, 0.43478, 0.86957, 0.43478, 0.86957, 0.43478, 0.43478, 0.43478, 0.43478, 0.43478, 0.43478, 0.43478, 0.43478, 0.43478, 0.43478, 3.47826, 0.28985, 0.14493, 0.28985, 0.57971, 0.28985, 0.14493, 0.28985, 0.57971, 0.28985, 0.14493, 0.28985, 1.88406, 0.28985, 0.14493, 0.28985, 0.57971, 0.28985, 0.14493, 0.28985, 0.57971, 0.28985, 0.14493, 0.28985, 0.57971, 0.28985, 0.14493, 0.28985, 0.57971, 0.28985, 0.14493, 0.28985, 0.57971, 0.28985, 0.14493, 0.28985, 0.57971, 0.28985, 0.14493, 0.28985, 0.43478, 0.14493, 0.28985, 0.43478, 0.14493, 0.28985, 0.43478, 0.14493, 0.28985, 1.88406, 0.28985, 0.14493, 0.28985, 0.57971, 0.28985, 0.14493, 0.28985, 0.57971, 0.28985, 0.14493, 0.28985, 1.88406, 0.28985, 0.14493, 0.28985, 0.57971, 0.28985, 0.14493, 0.28985, 0.57971, 0.86957], 1),\n",
      "\t\t\\amp, 0.5\n",
      "\t).play;\n",
      "\n",
      "\tpiano_right = Pbind(\n",
      "\t\t\\freq, Pseq( [659.2663, 622.2645, 659.2663, 622.2645, 659.2663, 493.8917, 587.3395, 523.26, 440.0075, Rest(0.28985), 261.63, 329.6331, 440.0075, 493.8917, Rest(0.28985), 329.6331, 415.3117, 493.8917, 523.26, Rest(0.28985), 329.6331, 659.2663, 622.2645, 659.2663, 622.2645, 659.2663, 493.8917, 587.3395, 523.26, 440.0075, Rest(0.28985), 261.63, 329.6331, 440.0075, 493.8917, Rest(0.28985), 329.6331, 523.26, 493.8917, 440.0075, 659.2663, 622.2645, 659.2663, 622.2645, 659.2663, 493.8917, 587.3395, 523.26, 440.0075, Rest(0.28985), 261.63, 329.6331, 440.0075, 493.8917, Rest(0.28985), 329.6331, 415.3117, 493.8917, 523.26, Rest(0.28985), 329.6331, 659.2663, 622.2645, 659.2663, 622.2645, 659.2663, 493.8917, 587.3395, 523.26, 440.0075, Rest(0.28985), 261.63, 329.6331, 440.0075, 493.8917, Rest(0.28985), 329.6331, 523.26, 493.8917, 440.0075, Rest(0.28985), 493.8917, 523.26, 587.3395, 659.2663, 392.0021, 698.4683, 659.2663, 587.3395, 349.2342, 659.2663, 587.3395, 523.26, 329.6331, 587.3395, 523.26, 493.8917, Rest(0.28985), 329.6331, 659.2663, Rest(0.43478), 659.2663, 1318.5326, Rest(0.43478), 622.2645, 659.2663, Rest(0.28985), 622.2645, 659.2663, 622.2645, 659.2663, 622.2645, 659.2663, 493.8917, 587.3395, 523.26, 440.0075, Rest(0.28985), 261.63, 329.6331, 440.0075, 493.8917, Rest(0.28985), 329.6331, 415.3117, 493.8917, 523.26, Rest(0.28985), 329.6331, 659.2663, 622.2645, 659.2663, 622.2645, 659.2663, 493.8917, 587.3395, 523.26, 440.0075, Rest(0.28985), 261.63, 329.6331, 440.0075, 493.8917, Rest(0.28985), 329.6331, 523.26, 493.8917, 440.0075, Rest(0.28985), 493.8917, 523.26, 587.3395, 659.2663, 392.0021, 698.4683, 659.2663, 587.3395, 349.2342, 659.2663, 587.3395, 523.26, 329.6331, 587.3395, 523.26, 493.8917, Rest(0.28985), 329.6331, 659.2663, Rest(0.43478), 659.2663, 1318.5326, Rest(0.43478), 622.2645, 659.2663, Rest(0.28985), 622.2645, 659.2663, 622.2645, 659.2663, 622.2645, 659.2663, 493.8917, 587.3395, 523.26, 440.0075, Rest(0.28985), 261.63, 329.6331, 440.0075, 493.8917, Rest(0.28985), 329.6331, 415.3117, 493.8917, 523.26, Rest(0.28985), 329.6331, 659.2663, 622.2645, 659.2663, 622.2645, 659.2663, 493.8917, 587.3395, 523.26, 440.0075, Rest(0.28985), 261.63, 329.6331, 440.0075, 493.8917, Rest(0.28985), 329.6331, 523.26, 493.8917, 440.0075, Rest(0.28985), [329.6331, 523.26], [349.2342, 523.26], [329.6331, 392.0021, 523.26], 349.2342, 440.0075, 523.26, 698.4683, 659.2663, 659.2663, 587.3395, 932.3433, 880.0149, 880.0149, 784.0042, 698.4683, 659.2663, 587.3395, 523.26, 466.1717, 440.0075, 493.8917, 440.0075, 392.0021, 440.0075, 493.8917, 523.26, 587.3395, 622.2645, 659.2663, 659.2663, 698.4683, 440.0075, 523.26, 587.3395, 493.8917, 523.26, 784.0042, 392.0021, 784.0042, 440.0075, 784.0042, 493.8917, 784.0042, 523.26, 784.0042, 587.3395, 784.0042, 659.2663, 784.0042, 1046.52, 987.7833, 880.0149, 784.0042, 698.4683, 659.2663, 587.3395, 784.0042, 698.4683, 587.3395, 523.26, 784.0042, 392.0021, 784.0042, 440.0075, 784.0042, 493.8917, 784.0042, 523.26, 784.0042, 587.3395, 784.0042, 659.2663, 784.0042, 1046.52, 987.7833, 880.0149, 784.0042, 698.4683, 659.2663, 587.3395, 784.0042, 698.4683, 587.3395, 659.2663, 698.4683, 659.2663, 622.2645, 659.2663, 493.8917, 659.2663, 587.3395, 659.2663, 493.8917, 659.2663, 587.3395, 659.2663, 493.8917, 659.2663, 622.2645, 659.2663, 493.8917, 659.2663, 622.2645, 659.2663, 622.2645, 659.2663, 622.2645, 659.2663, 622.2645, 659.2663, 622.2645, 659.2663, 493.8917, 587.3395, 523.26, 440.0075, Rest(0.28985), 261.63, 329.6331, 440.0075, 493.8917, Rest(0.28985), 329.6331, 415.3117, 493.8917, 523.26, Rest(0.28985), 329.6331, 659.2663, 622.2645, 659.2663, 622.2645, 659.2663, 493.8917, 587.3395, 523.26, 440.0075, Rest(0.28985), 261.63, 329.6331, 440.0075, 493.8917, Rest(0.28985), 329.6331, 523.26, 493.8917, 440.0075, Rest(0.28985), 493.8917, 523.26, 587.3395, 659.2663, 392.0021, 698.4683, 659.2663, 587.3395, 349.2342, 659.2663, 587.3395, 523.26, 329.6331, 587.3395, 523.26, 493.8917, Rest(0.28985), 329.6331, 659.2663, Rest(0.43478), 659.2663, 1318.5326, Rest(0.43478), 622.2645, 659.2663, Rest(0.28985), 622.2645, 659.2663, 622.2645, 659.2663, 622.2645, 659.2663, 493.8917, 587.3395, 523.26, 440.0075, Rest(0.28985), 261.63, 329.6331, 440.0075, 493.8917, Rest(0.28985), 329.6331, 415.3117, 493.8917, 523.26, Rest(0.28985), 329.6331, 659.2663, 622.2645, 659.2663, 622.2645, 659.2663, 493.8917, 587.3395, 523.26, 440.0075, Rest(0.28985), 261.63, 329.6331, 440.0075, 493.8917, Rest(0.28985), 329.6331, 523.26, 493.8917, 440.0075, Rest(0.86957), [329.6331, 392.0021, 466.1717, 554.3747], [349.2342, 440.0075, 587.3395], [554.3747, 659.2663], [587.3395, 698.4683], [415.3117, 587.3395, 698.4683], [392.0021, 587.3395, 698.4683], [440.0075, 523.26, 659.2663], [349.2342, 587.3395], [329.6331, 523.26], [293.6697, 493.8917], [261.63, 370.0007, 440.0075], [261.63, 440.0075], [261.63, 440.0075], [329.6331, 523.26], [293.6697, 493.8917], [261.63, 440.0075], [329.6331, 392.0021, 466.1717, 554.3747], [349.2342, 440.0075, 587.3395], [554.3747, 659.2663], [587.3395, 698.4683], [587.3395, 698.4683], [587.3395, 698.4683], [587.3395, 698.4683], [392.0021, 622.2645], [349.2342, 587.3395], [311.1323, 523.26], [293.6697, 349.2342, 466.1717], [293.6697, 349.2342, 440.0075], [293.6697, 349.2342, 415.3117], [293.6697, 349.2342, 392.0021], [261.63, 329.6331, 440.0075], Rest(0.43478), [329.6331, 493.8917], Rest(0.86957), 220.0037, 261.63, 329.6331, 440.0075, 523.26, 659.2663, 587.3395, 523.26, 493.8917, 440.0075, 523.26, 659.2663, 880.0149, 1046.52, 1318.5326, 1174.679, 1046.52, 987.7833, 880.0149, 1046.52, 1318.5326, 1760.0298, 2093.04, 2637.0652, 2349.358, 2093.04, 1975.5667, 1864.6867, 1760.0298, 1661.2469, 1568.0083, 1480.0028, 1396.9366, 1318.5326, 1244.529, 1174.679, 1108.7493, 1046.52, 987.7833, 932.3433, 880.0149, 830.6235, 784.0042, 740.0014, 698.4683, 659.2663, 622.2645, 659.2663, 493.8917, 587.3395, 523.26, 440.0075, Rest(0.28985), 261.63, 329.6331, 440.0075, 493.8917, Rest(0.28985), 329.6331, 415.3117, 493.8917, 523.26, Rest(0.28985), 329.6331, 659.2663, 622.2645, 659.2663, 622.2645, 659.2663, 493.8917, 587.3395, 523.26, 440.0075, Rest(0.28985), 261.63, 329.6331, 440.0075, 493.8917, Rest(0.28985), 329.6331, 523.26, 493.8917, 440.0075, Rest(0.28985), 493.8917, 523.26, 587.3395, 659.2663, 392.0021, 698.4683, 659.2663, 587.3395, 349.2342, 659.2663, 587.3395, 523.26, 329.6331, 587.3395, 523.26, 493.8917, Rest(0.28985), 329.6331, 659.2663, Rest(0.43478), 659.2663, 1318.5326, Rest(0.43478), 622.2645, 659.2663, Rest(0.28985), 622.2645, 659.2663, 622.2645, 659.2663, 622.2645, 659.2663, 493.8917, 587.3395, 523.26, 440.0075, Rest(0.28985), 261.63, 329.6331, 440.0075, 493.8917, Rest(0.28985), 329.6331, 415.3117, 493.8917, 523.26, Rest(0.28985), 329.6331, 659.2663, 622.2645, 659.2663, 622.2645, 659.2663, 493.8917, 587.3395, 523.26, 440.0075, Rest(0.28985), 261.63, 329.6331, 440.0075, 493.8917, Rest(0.28985), 329.6331, 523.26, 493.8917, 440.0075], 1),\n",
      "\t\t\\dur, Pseq( [0.28985, 0.14493, 0.28985, 0.14493, 0.28985, 0.14493, 0.28985, 0.14493, 0.43478, 0.28985, 0.14493, 0.28985, 0.14493, 0.43478, 0.28985, 0.14493, 0.28985, 0.14493, 0.43478, 0.28985, 0.14493, 0.28985, 0.14493, 0.28985, 0.14493, 0.28985, 0.14493, 0.28985, 0.14493, 0.43478, 0.28985, 0.14493, 0.28985, 0.14493, 0.43478, 0.28985, 0.14493, 0.28985, 0.14493, 0.86957, 0.28985, 0.14493, 0.28985, 0.14493, 0.28985, 0.14493, 0.28985, 0.14493, 0.43478, 0.28985, 0.14493, 0.28985, 0.14493, 0.43478, 0.28985, 0.14493, 0.28985, 0.14493, 0.43478, 0.28985, 0.14493, 0.28985, 0.14493, 0.28985, 0.14493, 0.28985, 0.14493, 0.28985, 0.14493, 0.43478, 0.28985, 0.14493, 0.28985, 0.14493, 0.43478, 0.28985, 0.14493, 0.28985, 0.14493, 0.43478, 0.28985, 0.14493, 0.28985, 0.14493, 0.72464, 0.14493, 0.28985, 0.14493, 0.72464, 0.14493, 0.28985, 0.14493, 0.72464, 0.14493, 0.28985, 0.14493, 0.43478, 0.28985, 0.14493, 0.28985, 0.43478, 0.14493, 0.28985, 0.43478, 0.14493, 0.43478, 0.28985, 0.14493, 0.28985, 0.14493, 0.28985, 0.14493, 0.28985, 0.14493, 0.28985, 0.14493, 0.43478, 0.28985, 0.14493, 0.28985, 0.14493, 0.43478, 0.28985, 0.14493, 0.28985, 0.14493, 0.43478, 0.28985, 0.14493, 0.28985, 0.14493, 0.28985, 0.14493, 0.28985, 0.14493, 0.28985, 0.14493, 0.43478, 0.28985, 0.14493, 0.28985, 0.14493, 0.43478, 0.28985, 0.14493, 0.28985, 0.14493, 0.43478, 0.28985, 0.14493, 0.28985, 0.14493, 0.72464, 0.14493, 0.28985, 0.14493, 0.72464, 0.14493, 0.28985, 0.14493, 0.72464, 0.14493, 0.28985, 0.14493, 0.43478, 0.28985, 0.14493, 0.28985, 0.43478, 0.14493, 0.28985, 0.43478, 0.14493, 0.43478, 0.28985, 0.14493, 0.28985, 0.14493, 0.28985, 0.14493, 0.28985, 0.14493, 0.28985, 0.14493, 0.43478, 0.28985, 0.14493, 0.28985, 0.14493, 0.43478, 0.28985, 0.14493, 0.28985, 0.14493, 0.43478, 0.28985, 0.14493, 0.28985, 0.14493, 0.28985, 0.14493, 0.28985, 0.14493, 0.28985, 0.14493, 0.43478, 0.28985, 0.14493, 0.28985, 0.14493, 0.43478, 0.28985, 0.14493, 0.28985, 0.14493, 0.43478, 0.28985, 0.14493, 0.28985, 0.14493, 0.05435, 0.05435, 0.76087, 0.32609, 0.1087, 0.43478, 0.43478, 0.32609, 0.1087, 0.28985, 0.14493, 0.28985, 0.14493, 0.28985, 0.14493, 0.43478, 0.43478, 0.05435, 0.05435, 0.13043, 0.06522, 0.13043, 0.86957, 0.28985, 0.14493, 0.72464, 0.14493, 0.28985, 0.14493, 0.86957, 0.32609, 0.1087, 0.14493, 0.07246, 0.14493, 0.07246, 0.14493, 0.07246, 0.14493, 0.07246, 0.14493, 0.07246, 0.14493, 0.07246, 0.14493, 0.07246, 0.14493, 0.07246, 0.14493, 0.07246, 0.14493, 0.07246, 0.14493, 0.07246, 0.14493, 0.07246, 0.14493, 0.07246, 0.14493, 0.07246, 0.14493, 0.07246, 0.14493, 0.07246, 0.14493, 0.07246, 0.14493, 0.07246, 0.14493, 0.07246, 0.14493, 0.07246, 0.14493, 0.07246, 0.14493, 0.07246, 0.14493, 0.07246, 0.14493, 0.07246, 0.14493, 0.07246, 0.14493, 0.07246, 0.14493, 0.07246, 0.14493, 0.07246, 0.14493, 0.07246, 0.14493, 0.07246, 0.72464, 0.14493, 0.28985, 0.14493, 0.72464, 0.14493, 0.28985, 0.14493, 0.28985, 0.14493, 0.28985, 0.14493, 0.28985, 0.14493, 0.28985, 0.14493, 0.28985, 0.14493, 0.28985, 0.14493, 0.43478, 0.28985, 0.14493, 0.28985, 0.14493, 0.43478, 0.28985, 0.14493, 0.28985, 0.14493, 0.43478, 0.28985, 0.14493, 0.28985, 0.14493, 0.28985, 0.14493, 0.28985, 0.14493, 0.28985, 0.14493, 0.43478, 0.28985, 0.14493, 0.28985, 0.14493, 0.43478, 0.28985, 0.14493, 0.28985, 0.14493, 0.43478, 0.28985, 0.14493, 0.28985, 0.14493, 0.72464, 0.14493, 0.28985, 0.14493, 0.72464, 0.14493, 0.28985, 0.14493, 0.72464, 0.14493, 0.28985, 0.14493, 0.43478, 0.28985, 0.14493, 0.28985, 0.43478, 0.14493, 0.28985, 0.43478, 0.14493, 0.43478, 0.28985, 0.14493, 0.28985, 0.14493, 0.28985, 0.14493, 0.28985, 0.14493, 0.28985, 0.14493, 0.43478, 0.28985, 0.14493, 0.28985, 0.14493, 0.43478, 0.28985, 0.14493, 0.28985, 0.14493, 0.43478, 0.28985, 0.14493, 0.28985, 0.14493, 0.28985, 0.14493, 0.28985, 0.14493, 0.28985, 0.14493, 0.43478, 0.28985, 0.14493, 0.28985, 0.14493, 0.43478, 0.28985, 0.14493, 0.28985, 0.14493, 0.43478, 0.86957, 1.30435, 0.86957, 0.28985, 0.14493, 0.86957, 0.43478, 1.30435, 0.86957, 0.28985, 0.14493, 0.86957, 0.43478, 0.43478, 0.43478, 0.43478, 1.30435, 1.30435, 0.86957, 0.28985, 0.14493, 0.86957, 0.43478, 1.30435, 0.86957, 0.28985, 0.14493, 0.86957, 0.43478, 0.86957, 0.43478, 0.86957, 0.43478, 0.43478, 0.86957, 0.17392, 0.08696, 0.17392, 0.1087, 0.2174, 0.1087, 0.17392, 0.08696, 0.17392, 0.1087, 0.2174, 0.1087, 0.17392, 0.08696, 0.17392, 0.1087, 0.2174, 0.1087, 0.17392, 0.08696, 0.17392, 0.1087, 0.2174, 0.1087, 0.17392, 0.08696, 0.17392, 0.1087, 0.2174, 0.1087, 0.17392, 0.08696, 0.17392, 0.1087, 0.2174, 0.1087, 0.17392, 0.08696, 0.17392, 0.1087, 0.2174, 0.1087, 0.17392, 0.08696, 0.17392, 0.28985, 0.14493, 0.28985, 0.14493, 0.28985, 0.14493, 0.43478, 0.28985, 0.14493, 0.28985, 0.14493, 0.43478, 0.28985, 0.14493, 0.28985, 0.14493, 0.43478, 0.28985, 0.14493, 0.28985, 0.14493, 0.28985, 0.14493, 0.28985, 0.14493, 0.28985, 0.14493, 0.43478, 0.28985, 0.14493, 0.28985, 0.14493, 0.43478, 0.28985, 0.14493, 0.28985, 0.14493, 0.43478, 0.28985, 0.14493, 0.28985, 0.14493, 0.72464, 0.14493, 0.28985, 0.14493, 0.72464, 0.14493, 0.28985, 0.14493, 0.72464, 0.14493, 0.28985, 0.14493, 0.43478, 0.28985, 0.14493, 0.28985, 0.43478, 0.14493, 0.28985, 0.43478, 0.14493, 0.43478, 0.28985, 0.14493, 0.28985, 0.14493, 0.28985, 0.14493, 0.28985, 0.14493, 0.28985, 0.14493, 0.43478, 0.28985, 0.14493, 0.28985, 0.14493, 0.43478, 0.28985, 0.14493, 0.28985, 0.14493, 0.43478, 0.28985, 0.14493, 0.28985, 0.14493, 0.28985, 0.14493, 0.28985, 0.14493, 0.28985, 0.14493, 0.43478, 0.28985, 0.14493, 0.28985, 0.14493, 0.43478, 0.28985, 0.14493, 0.28985, 0.14493, 0.86957], 1),\n",
      "\t\t\\amp, 0.2\n",
      "\t).play;\n",
      "\n",
      "\ts.record(duration: 164.0);\n",
      ")\n",
      "\n"
     ]
    }
   ],
   "source": [
    "# print SuperCollider code for the new modified song.\n",
    "t = sum([float(n) for n in left_hand_transformed_swing[1]])\n",
    "print(supercollider_template.format(\n",
    "    left = left_hand_transformed_swing, \n",
    "    right = right_hand_transformed_swing,\n",
    "    left_amp = 0.5,\n",
    "    right_amp = 0.2,\n",
    "    record = f\"s.record(duration: {t - t % 1 + 1});\"\n",
    ").replace(\"'\", \"\"))"
   ]
  }
 ],
 "metadata": {
  "kernelspec": {
   "display_name": "Python 3",
   "language": "python",
   "name": "python3"
  },
  "language_info": {
   "codemirror_mode": {
    "name": "ipython",
    "version": 3
   },
   "file_extension": ".py",
   "mimetype": "text/x-python",
   "name": "python",
   "nbconvert_exporter": "python",
   "pygments_lexer": "ipython3",
   "version": "3.9.6"
  },
  "orig_nbformat": 4
 },
 "nbformat": 4,
 "nbformat_minor": 2
}
